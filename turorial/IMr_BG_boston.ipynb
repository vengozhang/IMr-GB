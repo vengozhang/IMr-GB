{
 "cells": [
  {
   "cell_type": "code",
   "execution_count": 1,
   "id": "924d5737-cb90-4cba-ba9e-8f007206f6b1",
   "metadata": {},
   "outputs": [],
   "source": [
    "import pandas as pd\n",
    "import numpy as np\n",
    "import matplotlib.pyplot as plt\n",
    "import matplotlib\n",
    "import seaborn as sns\n",
    "import PyImbalReg as pir\n",
    "from sklearn.model_selection import train_test_split"
   ]
  },
  {
   "cell_type": "code",
   "execution_count": 2,
   "id": "3d1e473a-0c12-439e-a6f3-32a96182e9ba",
   "metadata": {},
   "outputs": [],
   "source": [
    "df_boston_tr = pd.read_csv(r\".\\CSV_data\\boston_train.csv\")\n",
    "############### val\n",
    "\n",
    "df_boston_val = pd.read_csv(r\".\\CSV_data\\boston_val.csv\")\n",
    "\n",
    "############### test\n",
    "\n",
    "df_boston_test = pd.read_csv(r\".\\CSV_data\\boston_test.csv\")"
   ]
  },
  {
   "cell_type": "markdown",
   "id": "d53f353f-835d-47fa-8930-a233b72b6e75",
   "metadata": {},
   "source": [
    "### boston dtaset"
   ]
  },
  {
   "cell_type": "code",
   "execution_count": 3,
   "id": "1c2736e6-51c3-459c-848a-28096a63ea99",
   "metadata": {},
   "outputs": [],
   "source": [
    "#%%  train-val-test\n",
    "x_boston_train, y_boston_train = df_boston_tr.iloc[:,:-1], df_boston_tr.iloc[:,-1]\n",
    "x_boston_val, y_boston_val = df_boston_val.iloc[:,:-1], df_boston_val.iloc[:,-1]\n",
    "x_boston_test, y_boston_test = df_boston_test.iloc[:,:-1], df_boston_test.iloc[:,-1]"
   ]
  },
  {
   "cell_type": "code",
   "execution_count": 4,
   "id": "3c01b65d-68b5-42b7-a639-074a22c43be5",
   "metadata": {},
   "outputs": [
    {
     "name": "stdout",
     "output_type": "stream",
     "text": [
      " * Overall: MSE 11.992\tL1 2.622\tG-Mean 1.672\n",
      " * Many: MSE 4.544\tL1 1.749\tG-Mean 1.256\n",
      " * Median: MSE 14.784\tL1 3.024\tG-Mean 1.957\n",
      " * Low: MSE 22.620\tL1 3.852\tG-Mean 2.681\n",
      " * Many_shot 27.000\tMedian 32.000\tLow_shot 17.000\n"
     ]
    }
   ],
   "source": [
    "#%%  RF\n",
    "from sklearn.ensemble import RandomForestRegressor\n",
    "rf_boston = RandomForestRegressor(n_estimators=50,  random_state=1)\n",
    "rf_boston.fit(x_boston_train, y_boston_train)\n",
    "rf_boston_pred = rf_boston.predict(x_boston_test)\n",
    "#%%   shot metrics\n",
    "import shot_metric\n",
    "shot_metric.val_metrics(rf_boston_pred, y_boston_test, y_boston_train)"
   ]
  },
  {
   "cell_type": "code",
   "execution_count": 5,
   "id": "a5a9377c-b4da-4abd-bb15-9b4ff705b112",
   "metadata": {},
   "outputs": [
    {
     "name": "stdout",
     "output_type": "stream",
     "text": [
      "[0]\tvalidation_0-rmse:20.09190\n",
      "[1]\tvalidation_0-rmse:15.15440\n",
      "[2]\tvalidation_0-rmse:12.02874\n",
      "[3]\tvalidation_0-rmse:9.79174\n",
      "[4]\tvalidation_0-rmse:8.29615\n",
      "[5]\tvalidation_0-rmse:7.10603\n",
      "[6]\tvalidation_0-rmse:6.31079\n",
      "[7]\tvalidation_0-rmse:5.78598\n",
      "[8]\tvalidation_0-rmse:5.42601\n",
      "[9]\tvalidation_0-rmse:5.17437\n",
      "[10]\tvalidation_0-rmse:4.93989\n",
      "[11]\tvalidation_0-rmse:4.80405\n",
      "[12]\tvalidation_0-rmse:4.70943\n",
      "[13]\tvalidation_0-rmse:4.61439\n",
      "[14]\tvalidation_0-rmse:4.54872\n",
      "[15]\tvalidation_0-rmse:4.51594\n",
      "[16]\tvalidation_0-rmse:4.50559\n",
      "[17]\tvalidation_0-rmse:4.46168\n",
      "[18]\tvalidation_0-rmse:4.45564\n",
      "[19]\tvalidation_0-rmse:4.43043\n",
      "[20]\tvalidation_0-rmse:4.42563\n",
      "[21]\tvalidation_0-rmse:4.42830\n",
      "[22]\tvalidation_0-rmse:4.44235\n",
      "[23]\tvalidation_0-rmse:4.42957\n",
      "[24]\tvalidation_0-rmse:4.41562\n",
      "[25]\tvalidation_0-rmse:4.41511\n",
      "[26]\tvalidation_0-rmse:4.41173\n",
      "[27]\tvalidation_0-rmse:4.39062\n",
      "[28]\tvalidation_0-rmse:4.39589\n",
      "[29]\tvalidation_0-rmse:4.38673\n",
      "[30]\tvalidation_0-rmse:4.38569\n",
      "[31]\tvalidation_0-rmse:4.38389\n",
      "[32]\tvalidation_0-rmse:4.37807\n",
      "[33]\tvalidation_0-rmse:4.37423\n",
      "[34]\tvalidation_0-rmse:4.37350\n",
      "[35]\tvalidation_0-rmse:4.37431\n",
      "[36]\tvalidation_0-rmse:4.36950\n",
      "[37]\tvalidation_0-rmse:4.36551\n",
      "[38]\tvalidation_0-rmse:4.36275\n",
      "[39]\tvalidation_0-rmse:4.36355\n",
      "[40]\tvalidation_0-rmse:4.36296\n",
      "[41]\tvalidation_0-rmse:4.37089\n",
      "[42]\tvalidation_0-rmse:4.37500\n",
      "[43]\tvalidation_0-rmse:4.37055\n",
      "[44]\tvalidation_0-rmse:4.36888\n",
      "[45]\tvalidation_0-rmse:4.36627\n",
      "[46]\tvalidation_0-rmse:4.36475\n",
      "[47]\tvalidation_0-rmse:4.36435\n",
      "[48]\tvalidation_0-rmse:4.35991\n",
      "[49]\tvalidation_0-rmse:4.35853\n",
      " * Overall: MSE 17.934\tL1 3.148\tG-Mean 2.026\n",
      " * Many: MSE 5.534\tL1 1.803\tG-Mean 1.134\n",
      " * Median: MSE 21.111\tL1 3.622\tG-Mean 2.302\n",
      " * Low: MSE 34.918\tL1 4.722\tG-Mean 3.789\n",
      " * Many_shot 27.000\tMedian 32.000\tLow_shot 17.000\n"
     ]
    }
   ],
   "source": [
    "#%%  xgb \n",
    "import xgboost as xgb\n",
    "xgb_boston = xgb.XGBRegressor(n_estimators=50,\n",
    "                            random_state=1)\n",
    "xgb_boston.fit(x_boston_train, y_boston_train,  eval_set=[(x_boston_val, y_boston_val)])\n",
    "xgb_boston_pred = xgb_boston.predict(x_boston_test)\n",
    "#%%   shot metrics\n",
    "import shot_metric\n",
    "shot_metric.val_metrics(xgb_boston_pred, y_boston_test, y_boston_train)"
   ]
  },
  {
   "cell_type": "markdown",
   "id": "90e2a3b5-14d2-4f55-8c7b-1d54bbad1f12",
   "metadata": {},
   "source": [
    "#### smogn"
   ]
  },
  {
   "cell_type": "code",
   "execution_count": 9,
   "id": "18583cbb-c28b-4315-890e-168a9256a25e",
   "metadata": {},
   "outputs": [
    {
     "name": "stderr",
     "output_type": "stream",
     "text": [
      "dist_matrix: 100%|#####################################################################| 18/18 [00:00<00:00, 67.60it/s]\n",
      "synth_matrix: 100%|####################################################################| 18/18 [00:00<00:00, 65.63it/s]\n",
      "r_index: 100%|##########################################################################| 9/9 [00:00<00:00, 291.02it/s]\n",
      "dist_matrix: 100%|#####################################################################| 33/33 [00:00<00:00, 46.08it/s]\n",
      "synth_matrix: 100%|###################################################################| 33/33 [00:00<00:00, 167.11it/s]\n",
      "r_index: 100%|########################################################################| 18/18 [00:00<00:00, 311.18it/s]\n"
     ]
    }
   ],
   "source": [
    "# smogn sample\n",
    "import smogn\n",
    "import resreg\n",
    "relevance_pdf = resreg.pdf_relevance(y_boston_train, bandwidth=0.5)\n",
    "np.random.seed(1)\n",
    "boston_smogn = smogn.smoter(data = pd.concat([x_boston_train,y_boston_train],axis = 1),\n",
    "                        y = 'HousValue',                               #  need change  columns!!!!!!!!!!!!!!!!!!!!!!!!!!!!\n",
    "                        rel_thres = 0.8,\n",
    "                       )\n",
    "boston_smogn.to_csv(r\".\\Ca_Data\\smogn_boston_train.csv\")"
   ]
  },
  {
   "cell_type": "code",
   "execution_count": 10,
   "id": "08a61e6a-d275-4fe8-9db5-be6c7fdf7cc5",
   "metadata": {},
   "outputs": [
    {
     "data": {
      "text/plain": [
       "(       CRIM         ZN     INDUS  CHAS       NOX        RM        AGE  \\\n",
       " 0  0.118764  48.808248  3.289955     0  0.434410  6.587913  28.048924   \n",
       " 1  0.108813  37.728402  5.191794     0  0.434356  6.837609  21.563980   \n",
       " 2  0.752482  16.079780  4.407105     0  0.619558  6.936380  83.855158   \n",
       " 3  0.585565   0.000000  6.200000     0  0.505997  7.322776  81.535884   \n",
       " 4  0.716409  22.043799  4.219343     0  0.626562  7.039854  80.962038   \n",
       " \n",
       "         DIS  RAD  TAX    PTRATIO           B      LSTAT  \n",
       " 0  4.802045    4  398  15.337097  383.910727   4.560000  \n",
       " 1  5.178475    6  352  15.794949  387.857403   4.758316  \n",
       " 2  2.356257    5  272  13.862448  386.582821  13.380681  \n",
       " 3  3.145562    8  307  17.400000  391.914725   6.606556  \n",
       " 4  2.404212    4  262  13.470074  384.597548  13.896860  ,\n",
       " (418, 13))"
      ]
     },
     "execution_count": 10,
     "metadata": {},
     "output_type": "execute_result"
    }
   ],
   "source": [
    "#%%  smogn train-val-test\n",
    "x_boston_train_smogn, y_boston_train_smogn = boston_smogn.iloc[:,:-1], boston_smogn.iloc[:,-1]\n",
    "x_boston_train_smogn.head(),x_boston_train_smogn.shape"
   ]
  },
  {
   "cell_type": "code",
   "execution_count": 76,
   "id": "3cdb0b65-7099-48af-90ec-6ae8fd1acd7f",
   "metadata": {},
   "outputs": [
    {
     "name": "stdout",
     "output_type": "stream",
     "text": [
      " * Overall: MSE 44.820\tL1 4.837\tG-Mean 2.549\n",
      " * Many: MSE 15.981\tL1 2.800\tG-Mean 2.051\n",
      " * Median: MSE 53.391\tL1 5.407\tG-Mean 3.002\n",
      " * Low: MSE 88.227\tL1 8.109\tG-Mean 5.999\n",
      " * Many_shot 27.000\tMedian 32.000\tLow_shot 17.000\n"
     ]
    }
   ],
   "source": [
    "#%%  RF + smogn\n",
    "from sklearn.ensemble import RandomForestRegressor\n",
    "rf_boston_smogn = RandomForestRegressor(n_estimators=50, max_features=0.8, random_state=1)\n",
    "rf_boston_smogn.fit(x_boston_train_smogn, y_boston_train_smogn)\n",
    "rf_boston_smogn_pred = rf_boston_smogn.predict(x_boston_test)\n",
    "#%%   shot metrics\n",
    "import shot_metric\n",
    "shot_metric.val_metrics(rf_boston_smogn_pred, y_boston_test, y_boston_train)"
   ]
  },
  {
   "cell_type": "code",
   "execution_count": 77,
   "id": "f59dfcac-5d91-47fa-ab98-ea263ac487ab",
   "metadata": {},
   "outputs": [
    {
     "name": "stdout",
     "output_type": "stream",
     "text": [
      "[0]\tvalidation_0-rmse:18.84478\n",
      "[1]\tvalidation_0-rmse:13.46056\n",
      "[2]\tvalidation_0-rmse:9.17380\n",
      "[3]\tvalidation_0-rmse:7.28249\n",
      "[4]\tvalidation_0-rmse:5.69288\n",
      "[5]\tvalidation_0-rmse:4.86963\n",
      "[6]\tvalidation_0-rmse:4.54907\n",
      "[7]\tvalidation_0-rmse:4.52378\n",
      "[8]\tvalidation_0-rmse:4.60107\n",
      "[9]\tvalidation_0-rmse:4.62189\n",
      "[10]\tvalidation_0-rmse:4.76607\n",
      "[11]\tvalidation_0-rmse:4.78625\n",
      "[12]\tvalidation_0-rmse:4.83351\n",
      "[13]\tvalidation_0-rmse:4.81398\n",
      "[14]\tvalidation_0-rmse:4.88041\n",
      "[15]\tvalidation_0-rmse:4.97473\n",
      "[16]\tvalidation_0-rmse:5.05882\n",
      "[17]\tvalidation_0-rmse:5.10317\n",
      "[18]\tvalidation_0-rmse:5.07078\n",
      "[19]\tvalidation_0-rmse:5.10785\n",
      "[20]\tvalidation_0-rmse:5.10594\n",
      "[21]\tvalidation_0-rmse:5.13564\n",
      "[22]\tvalidation_0-rmse:5.13563\n",
      "[23]\tvalidation_0-rmse:5.13103\n",
      "[24]\tvalidation_0-rmse:5.13054\n",
      "[25]\tvalidation_0-rmse:5.13403\n",
      "[26]\tvalidation_0-rmse:5.13213\n",
      "[27]\tvalidation_0-rmse:5.15409\n",
      "[28]\tvalidation_0-rmse:5.16189\n",
      "[29]\tvalidation_0-rmse:5.16256\n",
      "[30]\tvalidation_0-rmse:5.17263\n",
      "[31]\tvalidation_0-rmse:5.17392\n",
      "[32]\tvalidation_0-rmse:5.13925\n",
      "[33]\tvalidation_0-rmse:5.14191\n",
      "[34]\tvalidation_0-rmse:5.13915\n",
      "[35]\tvalidation_0-rmse:5.12485\n",
      "[36]\tvalidation_0-rmse:5.13405\n",
      "[37]\tvalidation_0-rmse:5.12301\n",
      "[38]\tvalidation_0-rmse:5.12293\n",
      "[39]\tvalidation_0-rmse:5.11697\n",
      "[40]\tvalidation_0-rmse:5.11971\n",
      "[41]\tvalidation_0-rmse:5.12413\n",
      "[42]\tvalidation_0-rmse:5.12954\n",
      "[43]\tvalidation_0-rmse:5.13030\n",
      "[44]\tvalidation_0-rmse:5.12792\n",
      "[45]\tvalidation_0-rmse:5.12361\n",
      "[46]\tvalidation_0-rmse:5.11893\n",
      "[47]\tvalidation_0-rmse:5.11381\n",
      "[48]\tvalidation_0-rmse:5.11309\n",
      "[49]\tvalidation_0-rmse:5.11216\n",
      " * Overall: MSE 58.811\tL1 5.254\tG-Mean 2.642\n",
      " * Many: MSE 11.086\tL1 2.487\tG-Mean 1.825\n",
      " * Median: MSE 73.965\tL1 6.008\tG-Mean 3.372\n",
      " * Low: MSE 117.275\tL1 9.083\tG-Mean 6.514\n",
      " * Many_shot 27.000\tMedian 32.000\tLow_shot 17.000\n"
     ]
    }
   ],
   "source": [
    "#%%  xgb + smogn\n",
    "import xgboost as xgb\n",
    "xgb_boston_smogn = xgb.XGBRegressor(n_estimators=50,\n",
    "                                    colsample_bytree = 0.8,\n",
    "                            random_state=1)\n",
    "xgb_boston_smogn.fit(x_boston_train_smogn, y_boston_train_smogn,  eval_set=[(x_boston_val, y_boston_val)])\n",
    "xgb_boston_smogn_pred = xgb_boston_smogn.predict(x_boston_test)\n",
    "#%%   shot metrics\n",
    "import shot_metric\n",
    "shot_metric.val_metrics(xgb_boston_smogn_pred, y_boston_test, y_boston_train)"
   ]
  },
  {
   "cell_type": "markdown",
   "id": "7559d242-1950-4e6c-b90d-599d355b1dbc",
   "metadata": {},
   "source": [
    "### smoter"
   ]
  },
  {
   "cell_type": "code",
   "execution_count": 17,
   "id": "a317636f-6241-4184-98d1-9f2e0f905e35",
   "metadata": {},
   "outputs": [],
   "source": [
    "import resreg\n",
    "relevance_pdf = resreg.pdf_relevance(y_boston_train, bandwidth=0.5)\n",
    "x_boston_train_smoter, y_boston_train_smoter = resreg.smoter(x_boston_train,y_boston_train, relevance = relevance_pdf, \n",
    "                                relevance_threshold=0.8, k=7, over='balance', random_state=1)\n",
    "boston_smoter = pd.concat([pd.DataFrame(data = x_boston_train_smoter,columns = x_boston_train.columns), \n",
    "                       pd.DataFrame(data = y_boston_train_smoter,columns = ['HousValue'])],axis = 1)    #  need change columns!!!!!!!!!!\n",
    "boston_smoter.to_csv(r\".\\Ca_Data\\smoter_boston_train.csv\")"
   ]
  },
  {
   "cell_type": "code",
   "execution_count": 18,
   "id": "27d7fa97-5280-473f-b6bf-254498e5a518",
   "metadata": {},
   "outputs": [
    {
     "data": {
      "text/plain": [
       "(     CRIM   ZN  INDUS  CHAS    NOX     RM    AGE    DIS   RAD    TAX  PTRATIO  \\\n",
       " 0   2.780  0.0  19.58   0.0  0.871  4.903   97.8  1.346   5.0  403.0     14.7   \n",
       " 1  17.867  0.0  18.10   0.0  0.671  6.223  100.0  1.386  24.0  666.0     20.2   \n",
       " 2  88.976  0.0  18.10   0.0  0.671  6.968   91.9  1.416  24.0  666.0     20.2   \n",
       " 3  15.874  0.0  18.10   0.0  0.671  6.545   99.1  1.519  24.0  666.0     20.2   \n",
       " 4  16.812  0.0  18.10   0.0  0.700  5.277   98.1  1.426  24.0  666.0     20.2   \n",
       " \n",
       "          B  LSTAT  \n",
       " 0  396.898  29.29  \n",
       " 1  393.738  21.78  \n",
       " 2  396.898  17.21  \n",
       " 3  396.898  21.08  \n",
       " 4  396.898  30.81  ,\n",
       " (351, 13))"
      ]
     },
     "execution_count": 18,
     "metadata": {},
     "output_type": "execute_result"
    }
   ],
   "source": [
    "#%%  smoter train-val-test\n",
    "x_boston_train_smoter, y_boston_train_smoter = boston_smoter.iloc[:,:-1], boston_smoter.iloc[:,-1]\n",
    "x_boston_train_smoter.head(),x_boston_train_smoter.shape"
   ]
  },
  {
   "cell_type": "code",
   "execution_count": 78,
   "id": "1e6ff27a-687b-461e-aeed-73f4d3a8c7fb",
   "metadata": {},
   "outputs": [
    {
     "name": "stdout",
     "output_type": "stream",
     "text": [
      " * Overall: MSE 14.332\tL1 2.925\tG-Mean 2.070\n",
      " * Many: MSE 4.965\tL1 1.951\tG-Mean 1.496\n",
      " * Median: MSE 15.119\tL1 2.891\tG-Mean 1.843\n",
      " * Low: MSE 32.448\tL1 4.995\tG-Mean 4.106\n",
      " * Many_shot 27.000\tMedian 32.000\tLow_shot 17.000\n"
     ]
    }
   ],
   "source": [
    "#%%  RF + smoter\n",
    "from sklearn.ensemble import RandomForestRegressor\n",
    "rf_boston_smoter = RandomForestRegressor(n_estimators=50, max_features=0.8, random_state=1)\n",
    "rf_boston_smoter.fit(x_boston_train_smoter, y_boston_train_smoter)\n",
    "rf_boston_smoter_pred = rf_boston_smoter.predict(x_boston_test)\n",
    "#%%   shot metrics\n",
    "import shot_metric\n",
    "shot_metric.val_metrics(rf_boston_smoter_pred, y_boston_test, y_boston_train)"
   ]
  },
  {
   "cell_type": "code",
   "execution_count": 134,
   "id": "b189c5c7-3cb5-4669-8f43-f296190a4f8e",
   "metadata": {},
   "outputs": [
    {
     "name": "stdout",
     "output_type": "stream",
     "text": [
      "[0]\tvalidation_0-rmse:19.74369\n",
      "[1]\tvalidation_0-rmse:14.74566\n",
      "[2]\tvalidation_0-rmse:11.19818\n",
      "[3]\tvalidation_0-rmse:8.64108\n",
      "[4]\tvalidation_0-rmse:6.99429\n",
      "[5]\tvalidation_0-rmse:5.75756\n",
      "[6]\tvalidation_0-rmse:4.92407\n",
      "[7]\tvalidation_0-rmse:4.28953\n",
      "[8]\tvalidation_0-rmse:3.99008\n",
      "[9]\tvalidation_0-rmse:3.71470\n",
      "[10]\tvalidation_0-rmse:3.59010\n",
      "[11]\tvalidation_0-rmse:3.52582\n",
      "[12]\tvalidation_0-rmse:3.43220\n",
      "[13]\tvalidation_0-rmse:3.39988\n",
      "[14]\tvalidation_0-rmse:3.37217\n",
      "[15]\tvalidation_0-rmse:3.37248\n",
      "[16]\tvalidation_0-rmse:3.37879\n",
      "[17]\tvalidation_0-rmse:3.37541\n",
      "[18]\tvalidation_0-rmse:3.36881\n",
      "[19]\tvalidation_0-rmse:3.36942\n",
      "[20]\tvalidation_0-rmse:3.35952\n",
      "[21]\tvalidation_0-rmse:3.36917\n",
      "[22]\tvalidation_0-rmse:3.35207\n",
      "[23]\tvalidation_0-rmse:3.34638\n",
      "[24]\tvalidation_0-rmse:3.34628\n",
      "[25]\tvalidation_0-rmse:3.33762\n",
      "[26]\tvalidation_0-rmse:3.33403\n",
      "[27]\tvalidation_0-rmse:3.33970\n",
      "[28]\tvalidation_0-rmse:3.33303\n",
      "[29]\tvalidation_0-rmse:3.33745\n",
      "[30]\tvalidation_0-rmse:3.33512\n",
      "[31]\tvalidation_0-rmse:3.33897\n",
      "[32]\tvalidation_0-rmse:3.33906\n",
      "[33]\tvalidation_0-rmse:3.34353\n",
      "[34]\tvalidation_0-rmse:3.34003\n",
      "[35]\tvalidation_0-rmse:3.33480\n",
      "[36]\tvalidation_0-rmse:3.33341\n",
      "[37]\tvalidation_0-rmse:3.33195\n",
      "[38]\tvalidation_0-rmse:3.33440\n",
      "[39]\tvalidation_0-rmse:3.33151\n",
      "[40]\tvalidation_0-rmse:3.33219\n",
      "[41]\tvalidation_0-rmse:3.33210\n",
      "[42]\tvalidation_0-rmse:3.32947\n",
      "[43]\tvalidation_0-rmse:3.32302\n",
      "[44]\tvalidation_0-rmse:3.32403\n",
      "[45]\tvalidation_0-rmse:3.31907\n",
      "[46]\tvalidation_0-rmse:3.31735\n",
      "[47]\tvalidation_0-rmse:3.31744\n",
      "[48]\tvalidation_0-rmse:3.31662\n",
      "[49]\tvalidation_0-rmse:3.31639\n",
      " * Overall: MSE 13.021\tL1 2.742\tG-Mean 1.776\n",
      " * Many: MSE 5.266\tL1 1.979\tG-Mean 1.556\n",
      " * Median: MSE 14.214\tL1 2.823\tG-Mean 1.817\n",
      " * Low: MSE 27.888\tL1 4.348\tG-Mean 3.459\n",
      " * Many_shot 27.000\tMedian 32.000\tLow_shot 17.000\n"
     ]
    }
   ],
   "source": [
    "#%%  xgb + smoter\n",
    "import xgboost as xgb\n",
    "xgb_boston_smoter = xgb.XGBRegressor(n_estimators=50,\n",
    "                                     #colsample_bytree = 0.8,\n",
    "                            random_state=1)\n",
    "xgb_boston_smoter.fit(x_boston_train_smoter, y_boston_train_smoter,  eval_set=[(x_boston_val, y_boston_val)])\n",
    "xgb_boston_smoter_pred = xgb_boston_smoter.predict(x_boston_test)\n",
    "#%%   shot metrics\n",
    "import shot_metric\n",
    "shot_metric.val_metrics(xgb_boston_smoter_pred, y_boston_test, y_boston_train)"
   ]
  },
  {
   "cell_type": "markdown",
   "id": "79c02374-a5cf-47bb-a789-fc1cb11959f7",
   "metadata": {},
   "source": [
    "#### WERCS"
   ]
  },
  {
   "cell_type": "code",
   "execution_count": 21,
   "id": "e0762032-97bc-4ce2-a71d-2247ac5ac8cd",
   "metadata": {},
   "outputs": [],
   "source": [
    "import resreg\n",
    "relevance_pdf = resreg.pdf_relevance(y_boston_train, bandwidth=0.5)\n",
    "x_boston_train_wercs, y_boston_train_wercs = resreg.wercs(x_boston_train,y_boston_train, relevance = relevance_pdf, \n",
    "                                under=0.5, over=0.5,delta = 0.02, random_state=1)\n",
    "boston_wercs = pd.concat([pd.DataFrame(data = x_boston_train_wercs,columns = x_boston_train.columns), \n",
    "                       pd.DataFrame(data = y_boston_train_wercs,columns = ['HousValue'])],axis = 1)                #  change columns!!!!\n",
    "boston_wercs.to_csv(r\".\\Ca_Data\\wercs_boston_train.csv\")"
   ]
  },
  {
   "cell_type": "code",
   "execution_count": 22,
   "id": "a888c70f-5d07-4f4f-8e66-89ac93863f53",
   "metadata": {},
   "outputs": [
    {
     "data": {
      "text/plain": [
       "(     CRIM    ZN  INDUS  CHAS    NOX     RM   AGE    DIS   RAD    TAX  PTRATIO  \\\n",
       " 0   0.020  95.0   2.68   0.0  0.416  8.034  31.9  5.118   4.0  224.0     14.7   \n",
       " 1  88.976   0.0  18.10   0.0  0.671  6.968  91.9  1.416  24.0  666.0     20.2   \n",
       " 2   0.006  18.0   2.31   0.0  0.538  6.575  65.2  4.090   1.0  296.0     15.3   \n",
       " 3   1.127   0.0  19.58   1.0  0.871  5.012  88.0  1.610   5.0  403.0     14.7   \n",
       " 4   0.128  12.5   6.07   0.0  0.409  5.885  33.0  6.498   4.0  345.0     18.9   \n",
       " \n",
       "          B  LSTAT  \n",
       " 0  390.549   2.88  \n",
       " 1  396.898  17.21  \n",
       " 2  396.898   4.98  \n",
       " 3  343.279  12.12  \n",
       " 4  396.898   8.79  ,\n",
       " (352, 13))"
      ]
     },
     "execution_count": 22,
     "metadata": {},
     "output_type": "execute_result"
    }
   ],
   "source": [
    "#%%  wercs train-val-test\n",
    "x_boston_train_wercs, y_boston_train_wercs = boston_wercs.iloc[:,:-1], boston_wercs.iloc[:,-1]\n",
    "x_boston_train_wercs.head(),x_boston_train_wercs.shape"
   ]
  },
  {
   "cell_type": "code",
   "execution_count": 80,
   "id": "39a3f932-4ee9-4407-8c69-62d17abc7347",
   "metadata": {},
   "outputs": [
    {
     "name": "stdout",
     "output_type": "stream",
     "text": [
      " * Overall: MSE 13.078\tL1 2.807\tG-Mean 1.800\n",
      " * Many: MSE 4.869\tL1 1.893\tG-Mean 1.573\n",
      " * Median: MSE 13.430\tL1 2.844\tG-Mean 1.849\n",
      " * Low: MSE 27.129\tL1 4.584\tG-Mean 3.985\n",
      " * Many_shot 27.000\tMedian 32.000\tLow_shot 17.000\n"
     ]
    }
   ],
   "source": [
    "#%%  RF + wercs\n",
    "from sklearn.ensemble import RandomForestRegressor\n",
    "rf_boston_wercs = RandomForestRegressor(n_estimators=50, max_features=0.8, random_state=1)\n",
    "rf_boston_wercs.fit(x_boston_train_wercs, y_boston_train_wercs)\n",
    "rf_boston_wercs_pred = rf_boston_wercs.predict(x_boston_test)\n",
    "#%%   shot metrics\n",
    "import shot_metric\n",
    "shot_metric.val_metrics(rf_boston_wercs_pred, y_boston_test, y_boston_train)"
   ]
  },
  {
   "cell_type": "code",
   "execution_count": 81,
   "id": "0bfa1f0b-c949-4b1a-ae38-5c872501463d",
   "metadata": {},
   "outputs": [
    {
     "name": "stdout",
     "output_type": "stream",
     "text": [
      "[0]\tvalidation_0-rmse:20.52453\n",
      "[1]\tvalidation_0-rmse:15.94117\n",
      "[2]\tvalidation_0-rmse:12.00574\n",
      "[3]\tvalidation_0-rmse:9.32553\n",
      "[4]\tvalidation_0-rmse:7.55116\n",
      "[5]\tvalidation_0-rmse:6.26905\n",
      "[6]\tvalidation_0-rmse:5.58821\n",
      "[7]\tvalidation_0-rmse:5.05407\n",
      "[8]\tvalidation_0-rmse:4.60878\n",
      "[9]\tvalidation_0-rmse:4.28340\n",
      "[10]\tvalidation_0-rmse:4.10705\n",
      "[11]\tvalidation_0-rmse:3.99046\n",
      "[12]\tvalidation_0-rmse:3.88968\n",
      "[13]\tvalidation_0-rmse:3.84728\n",
      "[14]\tvalidation_0-rmse:3.81380\n",
      "[15]\tvalidation_0-rmse:3.78729\n",
      "[16]\tvalidation_0-rmse:3.74799\n",
      "[17]\tvalidation_0-rmse:3.70965\n",
      "[18]\tvalidation_0-rmse:3.68604\n",
      "[19]\tvalidation_0-rmse:3.65628\n",
      "[20]\tvalidation_0-rmse:3.64585\n",
      "[21]\tvalidation_0-rmse:3.62911\n",
      "[22]\tvalidation_0-rmse:3.62184\n",
      "[23]\tvalidation_0-rmse:3.61365\n",
      "[24]\tvalidation_0-rmse:3.61458\n",
      "[25]\tvalidation_0-rmse:3.61407\n",
      "[26]\tvalidation_0-rmse:3.62264\n",
      "[27]\tvalidation_0-rmse:3.60928\n",
      "[28]\tvalidation_0-rmse:3.60295\n",
      "[29]\tvalidation_0-rmse:3.60424\n",
      "[30]\tvalidation_0-rmse:3.59936\n",
      "[31]\tvalidation_0-rmse:3.59933\n",
      "[32]\tvalidation_0-rmse:3.60025\n",
      "[33]\tvalidation_0-rmse:3.60086\n",
      "[34]\tvalidation_0-rmse:3.59855\n",
      "[35]\tvalidation_0-rmse:3.59213\n",
      "[36]\tvalidation_0-rmse:3.59170\n",
      "[37]\tvalidation_0-rmse:3.59108\n",
      "[38]\tvalidation_0-rmse:3.58752\n",
      "[39]\tvalidation_0-rmse:3.58762\n",
      "[40]\tvalidation_0-rmse:3.58772\n",
      "[41]\tvalidation_0-rmse:3.58755\n",
      "[42]\tvalidation_0-rmse:3.58650\n",
      "[43]\tvalidation_0-rmse:3.58586\n",
      "[44]\tvalidation_0-rmse:3.58649\n",
      "[45]\tvalidation_0-rmse:3.59062\n",
      "[46]\tvalidation_0-rmse:3.59199\n",
      "[47]\tvalidation_0-rmse:3.59323\n",
      "[48]\tvalidation_0-rmse:3.59049\n",
      "[49]\tvalidation_0-rmse:3.58878\n",
      " * Overall: MSE 11.736\tL1 2.711\tG-Mean 1.735\n",
      " * Many: MSE 4.210\tL1 1.616\tG-Mean 1.018\n",
      " * Median: MSE 14.519\tL1 3.067\tG-Mean 1.955\n",
      " * Low: MSE 19.985\tL1 4.124\tG-Mean 3.372\n",
      " * Many_shot 27.000\tMedian 32.000\tLow_shot 17.000\n"
     ]
    }
   ],
   "source": [
    "#%%  xgb + wercs\n",
    "import xgboost as xgb\n",
    "xgb_boston_wercs = xgb.XGBRegressor(n_estimators=50,\n",
    "                                    colsample_bytree = 0.8,\n",
    "                            random_state=1)\n",
    "xgb_boston_wercs.fit(x_boston_train_wercs, y_boston_train_wercs,  eval_set=[(x_boston_val, y_boston_val)])\n",
    "xgb_boston_wercs_pred = xgb_boston_wercs.predict(x_boston_test)\n",
    "#%%   shot metrics\n",
    "import shot_metric\n",
    "shot_metric.val_metrics(xgb_boston_wercs_pred, y_boston_test, y_boston_train)"
   ]
  },
  {
   "cell_type": "markdown",
   "id": "1a786055-44f7-42f7-be66-d3d4ca3ea25a",
   "metadata": {},
   "source": [
    "### rebagg-smoter"
   ]
  },
  {
   "cell_type": "code",
   "execution_count": 71,
   "id": "69c3c8ee-22d4-40b1-b26d-f7e523bd7c66",
   "metadata": {},
   "outputs": [],
   "source": [
    "from sklearn.tree import DecisionTreeRegressor\n",
    "import resreg\n",
    "import warnings\n",
    "warnings.filterwarnings('ignore')\n",
    "relevance_pdf = resreg.pdf_relevance(y_boston_train, bandwidth=0.5)\n",
    "reg_boston_tree = DecisionTreeRegressor(max_features=0.8, \n",
    "                                        random_state=1)  # base learner tree\n",
    "\n",
    "rebagg_boston_tree = resreg.Rebagg(m=50, s=0.8, base_reg=reg_boston_tree) # create a rebagg instance\n",
    "\n",
    "rebagg_boston_tree.fit(x_boston_train, y_boston_train, relevance=relevance_pdf, relevance_threshold=0.8, \n",
    "                    sample_method='smoter', size_method=\"balance\", random_state=1)\n",
    "\n",
    "rebagg_boston_tree_pred = rebagg_boston_tree.predict(x_boston_test)"
   ]
  },
  {
   "cell_type": "code",
   "execution_count": 72,
   "id": "1c2b6b71-c6cc-4f6d-b549-54a9c7d2d9f0",
   "metadata": {},
   "outputs": [
    {
     "name": "stdout",
     "output_type": "stream",
     "text": [
      " * Overall: MSE 11.083\tL1 2.573\tG-Mean 1.729\n",
      " * Many: MSE 5.168\tL1 1.847\tG-Mean 1.400\n",
      " * Median: MSE 15.004\tL1 3.006\tG-Mean 1.888\n",
      " * Low: MSE 13.442\tL1 3.045\tG-Mean 2.159\n",
      " * Many_shot 27.000\tMedian 32.000\tLow_shot 17.000\n"
     ]
    }
   ],
   "source": [
    "#%%   shot metrics\n",
    "import shot_metric\n",
    "shot_metric.val_metrics(rebagg_boston_tree_pred, y_boston_test, y_boston_train)"
   ]
  },
  {
   "cell_type": "markdown",
   "id": "f026eb87-386a-49ef-88cf-3d6c1ca734b5",
   "metadata": {},
   "source": [
    "## Imr-GB"
   ]
  },
  {
   "cell_type": "code",
   "execution_count": 37,
   "id": "6cc8bc5d-9693-4f66-9939-70dc220a7303",
   "metadata": {},
   "outputs": [],
   "source": [
    "import numpy as np\n",
    "import torch\n",
    "from torch.distributions import MultivariateNormal as MVN\n",
    "import torch.nn.functional as F\n",
    "from sklearn.mixture import GaussianMixture\n",
    "y_train = y_boston_train                  #  prior distribution!!!!\n",
    "# gradient\n",
    "def get_gmm(dist, n_components):\n",
    "    # fit a **ground truth** label distribution\n",
    "    all_labels = torch.tensor(dist)\n",
    "    if len(all_labels.shape) == 1:\n",
    "        all_labels = all_labels.unsqueeze(-1)\n",
    "    gmm = GaussianMixture(n_components=n_components).fit(all_labels)\n",
    "    gmm_dict = {'means': gmm.means_, 'weights': gmm.weights_, 'variances': gmm.covariances_}\n",
    "    return gmm_dict\n",
    "def gradient_gai(y_pred, y_true):\n",
    "    gmm = get_gmm(dist= y_train, n_components=60 # GaussianMixture components\n",
    "                 )\n",
    "    gmm = {k: torch.tensor(gmm[k]) for k in gmm}\n",
    "    noise_var = 1.\n",
    "    target, pred = torch.tensor(y_true).reshape(-1,1), torch.tensor(y_pred).reshape(-1,1).requires_grad_()\n",
    "    I = torch.eye(target.shape[-1])\n",
    "    mse_term = -MVN(target, noise_var*I).log_prob(pred)\n",
    "    balancing_term = MVN(gmm['means'], gmm['variances']+noise_var*I).log_prob(pred.unsqueeze(1)) + gmm['weights'].log()\n",
    "    balancing_term = torch.logsumexp(balancing_term, dim=1)\n",
    "    loss = mse_term + balancing_term\n",
    "    loss = (loss * (2 * noise_var)).sum()\n",
    "    loss.backward()\n",
    "    grad_pred = pred.grad\n",
    "    grad_pred = np.array(grad_pred).reshape(-1,1)\n",
    "    return grad_pred\n",
    "\"\"\"def hessian_gai(y_pred, y_true):\n",
    "    y_true, y_pred = np.array(y_true).reshape(-1,1), np.array(y_pred).reshape(-1,1)\n",
    "    return 0*(y_true + y_pred) + 1\"\"\"\n",
    "def hessian_gai(y_pred, y_true):\n",
    "    y_true, y_pred = np.array(y_true).reshape(-1,1), np.array(y_pred).reshape(-1,1)\n",
    "    return 0*(y_true + y_pred) + 1\n",
    "def Im_bmse_loss(y_true,y_pred):\n",
    "    grad = gradient_gai(y_pred, y_true)\n",
    "    hess = hessian_gai(y_pred, y_true)\n",
    "    return grad, hess"
   ]
  },
  {
   "cell_type": "code",
   "execution_count": 38,
   "id": "bbeacd26-37ba-4a03-88a0-8cf8fc57e9f5",
   "metadata": {},
   "outputs": [
    {
     "name": "stdout",
     "output_type": "stream",
     "text": [
      "[0]\tvalidation_0-rmse:15.31917\n",
      "[1]\tvalidation_0-rmse:9.26960\n",
      "[2]\tvalidation_0-rmse:6.91872\n",
      "[3]\tvalidation_0-rmse:6.42622\n",
      "[4]\tvalidation_0-rmse:6.19818\n",
      "[5]\tvalidation_0-rmse:6.09918\n",
      "[6]\tvalidation_0-rmse:5.84508\n",
      "[7]\tvalidation_0-rmse:5.76429\n",
      "[8]\tvalidation_0-rmse:5.76009\n",
      "[9]\tvalidation_0-rmse:5.73523\n",
      "[10]\tvalidation_0-rmse:5.70671\n",
      "[11]\tvalidation_0-rmse:5.70171\n",
      "[12]\tvalidation_0-rmse:5.69667\n",
      "[13]\tvalidation_0-rmse:5.69646\n",
      "[14]\tvalidation_0-rmse:5.68695\n",
      "[15]\tvalidation_0-rmse:5.66450\n",
      "[16]\tvalidation_0-rmse:5.65631\n",
      "[17]\tvalidation_0-rmse:5.65086\n",
      "[18]\tvalidation_0-rmse:5.65716\n",
      "[19]\tvalidation_0-rmse:5.65782\n",
      "[20]\tvalidation_0-rmse:5.65793\n",
      "[21]\tvalidation_0-rmse:5.66415\n",
      "[22]\tvalidation_0-rmse:5.66558\n",
      "[23]\tvalidation_0-rmse:5.67161\n",
      "[24]\tvalidation_0-rmse:5.67970\n",
      "[25]\tvalidation_0-rmse:5.67779\n",
      "[26]\tvalidation_0-rmse:5.67947\n",
      "[27]\tvalidation_0-rmse:5.67890\n",
      "[28]\tvalidation_0-rmse:5.67910\n",
      "[29]\tvalidation_0-rmse:5.68014\n",
      "[30]\tvalidation_0-rmse:5.67955\n",
      "[31]\tvalidation_0-rmse:5.67748\n",
      "[32]\tvalidation_0-rmse:5.67751\n",
      "[33]\tvalidation_0-rmse:5.67746\n",
      "[34]\tvalidation_0-rmse:5.67745\n",
      "[35]\tvalidation_0-rmse:5.67747\n",
      "[36]\tvalidation_0-rmse:5.67697\n",
      "[37]\tvalidation_0-rmse:5.67498\n",
      "[38]\tvalidation_0-rmse:5.67483\n",
      "[39]\tvalidation_0-rmse:5.67486\n",
      "[40]\tvalidation_0-rmse:5.67506\n",
      "[41]\tvalidation_0-rmse:5.67510\n",
      "[42]\tvalidation_0-rmse:5.67520\n",
      "[43]\tvalidation_0-rmse:5.67536\n",
      "[44]\tvalidation_0-rmse:5.67540\n",
      "[45]\tvalidation_0-rmse:5.67530\n",
      "[46]\tvalidation_0-rmse:5.67552\n",
      "[47]\tvalidation_0-rmse:5.67539\n",
      "[48]\tvalidation_0-rmse:5.67564\n",
      "[49]\tvalidation_0-rmse:5.67566\n"
     ]
    }
   ],
   "source": [
    "import xgboost as xgb\n",
    "Imr_gb_boston = xgb.XGBRegressor(n_estimators=50,\n",
    "                             #max_depth = 5,\n",
    "                             #colsample_bytree = 0.8,\n",
    "                             objective = Im_bmse_loss,\n",
    "                             #eval_metric = mean_absolute_error\n",
    "                             random_state=1\n",
    "                            )\n",
    "Imr_gb_boston.fit(x_boston_train, y_boston_train,  eval_set=[(x_boston_val, y_boston_val)])\n",
    "Imr_gb_boston_pred = Imr_gb_boston.predict(x_boston_test)"
   ]
  },
  {
   "cell_type": "code",
   "execution_count": 39,
   "id": "84a4ea79-dfc1-4d8b-86ee-d41f9107b0b8",
   "metadata": {},
   "outputs": [
    {
     "name": "stdout",
     "output_type": "stream",
     "text": [
      " * Overall: MSE 20.850\tL1 3.379\tG-Mean 2.119\n",
      " * Many: MSE 7.000\tL1 2.080\tG-Mean 1.476\n",
      " * Median: MSE 28.336\tL1 4.036\tG-Mean 2.556\n",
      " * Low: MSE 30.107\tL1 4.624\tG-Mean 3.177\n",
      " * Many_shot 27.000\tMedian 32.000\tLow_shot 17.000\n"
     ]
    }
   ],
   "source": [
    "#%%   shot metrics\n",
    "import shot_metric\n",
    "shot_metric.val_metrics(Imr_gb_boston_pred, y_boston_test, y_boston_train)"
   ]
  },
  {
   "cell_type": "code",
   "execution_count": 40,
   "id": "eef71137-f2e1-448d-b7b6-d1c79723fb94",
   "metadata": {},
   "outputs": [],
   "source": [
    "import numpy as np\n",
    "import torch\n",
    "from torch.distributions import MultivariateNormal as MVN\n",
    "import torch.nn.functional as F\n",
    "from sklearn.mixture import GaussianMixture\n",
    "y_train = y_boston_train               #  prior distribution\n",
    "# gradient\n",
    "def get_gmm(dist, n_components):\n",
    "    # fit a **ground truth** label distribution\n",
    "    all_labels = torch.tensor(dist)\n",
    "    if len(all_labels.shape) == 1:\n",
    "        all_labels = all_labels.unsqueeze(-1)\n",
    "    gmm = GaussianMixture(n_components=n_components).fit(all_labels)\n",
    "    gmm_dict = {'means': gmm.means_, 'weights': gmm.weights_, 'variances': gmm.covariances_}\n",
    "    return gmm_dict\n",
    "def gradient_gai(y_pred, y_true):\n",
    "    gmm = get_gmm(dist= y_train, n_components=10         # GaussianMixture components\n",
    "                 )\n",
    "    gmm = {k: torch.tensor(gmm[k]) for k in gmm}\n",
    "    noise_var = 1.\n",
    "    target, pred = torch.tensor(y_true).reshape(-1,1), torch.tensor(y_pred).reshape(-1,1).requires_grad_()\n",
    "    I = torch.eye(target.shape[-1])\n",
    "    mse_term = -MVN(target, noise_var*I).log_prob(pred)\n",
    "    balancing_term = MVN(gmm['means'], gmm['variances']+noise_var*I).log_prob(pred.unsqueeze(1)) + gmm['weights'].log()\n",
    "    balancing_term = torch.logsumexp(balancing_term, dim=1)\n",
    "    loss = mse_term + balancing_term\n",
    "    loss = (loss * (2 * noise_var)).sum()\n",
    "    loss.backward()\n",
    "    grad_pred = pred.grad\n",
    "    grad_pred = np.array(grad_pred).reshape(-1,1)\n",
    "    return grad_pred\n",
    "\"\"\"def hessian_gai(y_pred, y_true):\n",
    "    y_true, y_pred = np.array(y_true).reshape(-1,1), np.array(y_pred).reshape(-1,1)\n",
    "    return 0*(y_true + y_pred) + 1\"\"\"\n",
    "def hessian_gai(y_pred, y_true):\n",
    "    y_true, y_pred = np.array(y_true).reshape(-1,1), np.array(y_pred).reshape(-1,1)\n",
    "    return 0*(y_true + y_pred) + 1\n",
    "def Im_bmse_loss(y_true,y_pred):\n",
    "    grad = gradient_gai(y_pred, y_true)\n",
    "    hess = hessian_gai(y_pred, y_true)\n",
    "    return grad, hess"
   ]
  },
  {
   "cell_type": "code",
   "execution_count": 41,
   "id": "73c7565c-af25-4e27-850a-6c49f8bccb2c",
   "metadata": {},
   "outputs": [
    {
     "name": "stdout",
     "output_type": "stream",
     "text": [
      "[0]\tvalidation_0-rmse:14.34312\n",
      "[1]\tvalidation_0-rmse:8.72741\n",
      "[2]\tvalidation_0-rmse:5.94290\n",
      "[3]\tvalidation_0-rmse:5.17660\n",
      "[4]\tvalidation_0-rmse:4.93416\n",
      "[5]\tvalidation_0-rmse:4.73398\n",
      "[6]\tvalidation_0-rmse:4.63269\n",
      "[7]\tvalidation_0-rmse:4.64788\n",
      "[8]\tvalidation_0-rmse:4.62369\n",
      "[9]\tvalidation_0-rmse:4.64502\n",
      "[10]\tvalidation_0-rmse:4.65226\n",
      "[11]\tvalidation_0-rmse:4.62975\n",
      "[12]\tvalidation_0-rmse:4.62903\n",
      "[13]\tvalidation_0-rmse:4.61961\n",
      "[14]\tvalidation_0-rmse:4.59143\n",
      "[15]\tvalidation_0-rmse:4.57419\n",
      "[16]\tvalidation_0-rmse:4.56936\n",
      "[17]\tvalidation_0-rmse:4.56411\n",
      "[18]\tvalidation_0-rmse:4.57364\n",
      "[19]\tvalidation_0-rmse:4.57659\n",
      "[20]\tvalidation_0-rmse:4.58692\n",
      "[21]\tvalidation_0-rmse:4.59996\n",
      "[22]\tvalidation_0-rmse:4.60023\n",
      "[23]\tvalidation_0-rmse:4.60740\n",
      "[24]\tvalidation_0-rmse:4.60394\n",
      "[25]\tvalidation_0-rmse:4.60858\n",
      "[26]\tvalidation_0-rmse:4.60839\n",
      "[27]\tvalidation_0-rmse:4.60651\n",
      "[28]\tvalidation_0-rmse:4.60819\n",
      "[29]\tvalidation_0-rmse:4.60623\n",
      "[30]\tvalidation_0-rmse:4.61062\n",
      "[31]\tvalidation_0-rmse:4.61081\n",
      "[32]\tvalidation_0-rmse:4.60997\n",
      "[33]\tvalidation_0-rmse:4.61015\n",
      "[34]\tvalidation_0-rmse:4.60970\n",
      "[35]\tvalidation_0-rmse:4.61124\n",
      "[36]\tvalidation_0-rmse:4.61008\n",
      "[37]\tvalidation_0-rmse:4.61028\n",
      "[38]\tvalidation_0-rmse:4.61010\n",
      "[39]\tvalidation_0-rmse:4.61004\n",
      "[40]\tvalidation_0-rmse:4.61121\n",
      "[41]\tvalidation_0-rmse:4.61073\n",
      "[42]\tvalidation_0-rmse:4.60995\n",
      "[43]\tvalidation_0-rmse:4.61023\n",
      "[44]\tvalidation_0-rmse:4.61094\n",
      "[45]\tvalidation_0-rmse:4.61137\n",
      "[46]\tvalidation_0-rmse:4.60653\n",
      "[47]\tvalidation_0-rmse:4.60602\n",
      "[48]\tvalidation_0-rmse:4.60686\n",
      "[49]\tvalidation_0-rmse:4.60515\n"
     ]
    }
   ],
   "source": [
    "import xgboost as xgb\n",
    "Imr_gb_boston = xgb.XGBRegressor(n_estimators=50,\n",
    "                             #max_depth = 5,\n",
    "                             #colsample_bytree = 0.8,\n",
    "                             objective = Im_bmse_loss,\n",
    "                             #eval_metric = mean_absolute_error\n",
    "                             random_state=1\n",
    "                            )\n",
    "Imr_gb_boston.fit(x_boston_train, y_boston_train,  eval_set=[(x_boston_val, y_boston_val)])\n",
    "Imr_gb_boston_pred = Imr_gb_boston.predict(x_boston_test)"
   ]
  },
  {
   "cell_type": "code",
   "execution_count": 42,
   "id": "d9b0ae53-6208-4f0b-94d7-b43c18089996",
   "metadata": {},
   "outputs": [
    {
     "name": "stdout",
     "output_type": "stream",
     "text": [
      " * Overall: MSE 21.809\tL1 3.472\tG-Mean 2.360\n",
      " * Many: MSE 7.482\tL1 2.138\tG-Mean 1.345\n",
      " * Median: MSE 28.186\tL1 3.927\tG-Mean 2.723\n",
      " * Low: MSE 35.804\tL1 5.188\tG-Mean 3.975\n",
      " * Many_shot 27.000\tMedian 32.000\tLow_shot 17.000\n"
     ]
    }
   ],
   "source": [
    "#%%   shot metrics\n",
    "import shot_metric\n",
    "shot_metric.val_metrics(Imr_gb_boston_pred, y_boston_test, y_boston_train)"
   ]
  },
  {
   "cell_type": "code",
   "execution_count": 43,
   "id": "3a3ef35e-faf0-48b9-aca3-4dab88c75288",
   "metadata": {},
   "outputs": [],
   "source": [
    "import numpy as np\n",
    "import torch\n",
    "from torch.distributions import MultivariateNormal as MVN\n",
    "import torch.nn.functional as F\n",
    "from sklearn.mixture import GaussianMixture\n",
    "y_train = y_boston_train               #  prior distribution\n",
    "# gradient\n",
    "def get_gmm(dist, n_components):\n",
    "    # fit a **ground truth** label distribution\n",
    "    all_labels = torch.tensor(dist)\n",
    "    if len(all_labels.shape) == 1:\n",
    "        all_labels = all_labels.unsqueeze(-1)\n",
    "    gmm = GaussianMixture(n_components=n_components).fit(all_labels)\n",
    "    gmm_dict = {'means': gmm.means_, 'weights': gmm.weights_, 'variances': gmm.covariances_}\n",
    "    return gmm_dict\n",
    "def gradient_gai(y_pred, y_true):\n",
    "    gmm = get_gmm(dist= y_train, n_components=1    # GaussianMixture components\n",
    "                 )\n",
    "    gmm = {k: torch.tensor(gmm[k]) for k in gmm}\n",
    "    noise_var = 1.\n",
    "    target, pred = torch.tensor(y_true).reshape(-1,1), torch.tensor(y_pred).reshape(-1,1).requires_grad_()\n",
    "    I = torch.eye(target.shape[-1])\n",
    "    mse_term = -MVN(target, noise_var*I).log_prob(pred)\n",
    "    balancing_term = MVN(gmm['means'], gmm['variances']+noise_var*I).log_prob(pred.unsqueeze(1)) + gmm['weights'].log()\n",
    "    balancing_term = torch.logsumexp(balancing_term, dim=1)\n",
    "    loss = mse_term + balancing_term\n",
    "    loss = (loss * (2 * noise_var)).sum()\n",
    "    loss.backward()\n",
    "    grad_pred = pred.grad\n",
    "    grad_pred = np.array(grad_pred).reshape(-1,1)\n",
    "    return grad_pred\n",
    "\"\"\"def hessian_gai(y_pred, y_true):\n",
    "    y_true, y_pred = np.array(y_true).reshape(-1,1), np.array(y_pred).reshape(-1,1)\n",
    "    return 0*(y_true + y_pred) + 1\"\"\"\n",
    "def hessian_gai(y_pred, y_true):\n",
    "    y_true, y_pred = np.array(y_true).reshape(-1,1), np.array(y_pred).reshape(-1,1)\n",
    "    return 0*(y_true + y_pred) + 1\n",
    "def Im_bmse_loss(y_true,y_pred):\n",
    "    grad = gradient_gai(y_pred, y_true)\n",
    "    hess = hessian_gai(y_pred, y_true)\n",
    "    return grad, hess"
   ]
  },
  {
   "cell_type": "code",
   "execution_count": 44,
   "id": "e73c8ba0-6049-4b2b-b8e6-f44a6f33f2f2",
   "metadata": {},
   "outputs": [
    {
     "name": "stdout",
     "output_type": "stream",
     "text": [
      "[0]\tvalidation_0-rmse:13.54811\n",
      "[1]\tvalidation_0-rmse:7.33568\n",
      "[2]\tvalidation_0-rmse:5.33176\n",
      "[3]\tvalidation_0-rmse:4.79329\n",
      "[4]\tvalidation_0-rmse:4.34442\n",
      "[5]\tvalidation_0-rmse:4.36126\n",
      "[6]\tvalidation_0-rmse:4.31200\n",
      "[7]\tvalidation_0-rmse:4.19478\n",
      "[8]\tvalidation_0-rmse:4.16267\n",
      "[9]\tvalidation_0-rmse:4.13913\n",
      "[10]\tvalidation_0-rmse:4.16150\n",
      "[11]\tvalidation_0-rmse:4.14856\n",
      "[12]\tvalidation_0-rmse:4.12006\n",
      "[13]\tvalidation_0-rmse:4.10836\n",
      "[14]\tvalidation_0-rmse:4.10341\n",
      "[15]\tvalidation_0-rmse:4.07223\n",
      "[16]\tvalidation_0-rmse:4.06799\n",
      "[17]\tvalidation_0-rmse:4.06128\n",
      "[18]\tvalidation_0-rmse:4.06131\n",
      "[19]\tvalidation_0-rmse:4.05569\n",
      "[20]\tvalidation_0-rmse:4.05448\n",
      "[21]\tvalidation_0-rmse:4.04160\n",
      "[22]\tvalidation_0-rmse:4.04324\n",
      "[23]\tvalidation_0-rmse:4.04170\n",
      "[24]\tvalidation_0-rmse:4.04076\n",
      "[25]\tvalidation_0-rmse:4.04337\n",
      "[26]\tvalidation_0-rmse:4.04140\n",
      "[27]\tvalidation_0-rmse:4.03862\n",
      "[28]\tvalidation_0-rmse:4.03649\n",
      "[29]\tvalidation_0-rmse:4.03569\n",
      "[30]\tvalidation_0-rmse:4.03522\n",
      "[31]\tvalidation_0-rmse:4.03306\n",
      "[32]\tvalidation_0-rmse:4.03029\n",
      "[33]\tvalidation_0-rmse:4.03079\n",
      "[34]\tvalidation_0-rmse:4.03037\n",
      "[35]\tvalidation_0-rmse:4.03058\n",
      "[36]\tvalidation_0-rmse:4.03113\n",
      "[37]\tvalidation_0-rmse:4.03147\n",
      "[38]\tvalidation_0-rmse:4.03086\n",
      "[39]\tvalidation_0-rmse:4.02953\n",
      "[40]\tvalidation_0-rmse:4.02965\n",
      "[41]\tvalidation_0-rmse:4.02895\n",
      "[42]\tvalidation_0-rmse:4.02787\n",
      "[43]\tvalidation_0-rmse:4.02803\n",
      "[44]\tvalidation_0-rmse:4.02782\n",
      "[45]\tvalidation_0-rmse:4.02759\n",
      "[46]\tvalidation_0-rmse:4.02701\n",
      "[47]\tvalidation_0-rmse:4.02713\n",
      "[48]\tvalidation_0-rmse:4.02700\n",
      "[49]\tvalidation_0-rmse:4.02667\n"
     ]
    }
   ],
   "source": [
    "import xgboost as xgb\n",
    "Imr_gb_boston = xgb.XGBRegressor(n_estimators=50,\n",
    "                             #max_depth = 5,\n",
    "                             #colsample_bytree = 0.8,\n",
    "                             objective = Im_bmse_loss,\n",
    "                             #eval_metric = mean_absolute_error\n",
    "                             random_state=1\n",
    "                            )\n",
    "Imr_gb_boston.fit(x_boston_train, y_boston_train,  eval_set=[(x_boston_val, y_boston_val)])\n",
    "Imr_gb_boston_pred = Imr_gb_boston.predict(x_boston_test)"
   ]
  },
  {
   "cell_type": "code",
   "execution_count": 45,
   "id": "f764c95b-f9e5-45f7-92ad-6f5d1ef6d8d6",
   "metadata": {},
   "outputs": [
    {
     "name": "stdout",
     "output_type": "stream",
     "text": [
      " * Overall: MSE 24.020\tL1 3.430\tG-Mean 1.945\n",
      " * Many: MSE 7.162\tL1 2.039\tG-Mean 1.327\n",
      " * Median: MSE 34.169\tL1 4.240\tG-Mean 2.894\n",
      " * Low: MSE 36.614\tL1 4.709\tG-Mean 3.034\n",
      " * Many_shot 27.000\tMedian 32.000\tLow_shot 17.000\n"
     ]
    }
   ],
   "source": [
    "#%%   shot metrics  1\n",
    "import shot_metric\n",
    "shot_metric.val_metrics(Imr_gb_boston_pred, y_boston_test, y_boston_train)"
   ]
  },
  {
   "cell_type": "code",
   "execution_count": 46,
   "id": "6837194d-0c56-4529-a66c-eff17b478de5",
   "metadata": {},
   "outputs": [],
   "source": [
    "import numpy as np\n",
    "import torch\n",
    "from torch.distributions import MultivariateNormal as MVN\n",
    "import torch.nn.functional as F\n",
    "from sklearn.mixture import GaussianMixture\n",
    "y_train = y_boston_train                  #  prior distribution\n",
    "# gradient\n",
    "def get_gmm(dist, n_components):\n",
    "    # fit a **ground truth** label distribution\n",
    "    all_labels = torch.tensor(dist)\n",
    "    if len(all_labels.shape) == 1:\n",
    "        all_labels = all_labels.unsqueeze(-1)\n",
    "    gmm = GaussianMixture(n_components=n_components).fit(all_labels)\n",
    "    gmm_dict = {'means': gmm.means_, 'weights': gmm.weights_, 'variances': gmm.covariances_}\n",
    "    return gmm_dict\n",
    "def gradient_gai(y_pred, y_true):\n",
    "    gmm = get_gmm(dist= y_train, n_components=3 # GaussianMixture components\n",
    "                 )\n",
    "    gmm = {k: torch.tensor(gmm[k]) for k in gmm}\n",
    "    noise_var = 1.\n",
    "    target, pred = torch.tensor(y_true).reshape(-1,1), torch.tensor(y_pred).reshape(-1,1).requires_grad_()\n",
    "    I = torch.eye(target.shape[-1])\n",
    "    mse_term = -MVN(target, noise_var*I).log_prob(pred)\n",
    "    balancing_term = MVN(gmm['means'], gmm['variances']+noise_var*I).log_prob(pred.unsqueeze(1)) + gmm['weights'].log()\n",
    "    balancing_term = torch.logsumexp(balancing_term, dim=1)\n",
    "    loss = mse_term + balancing_term\n",
    "    loss = (loss * (2 * noise_var)).sum()\n",
    "    loss.backward()\n",
    "    grad_pred = pred.grad\n",
    "    grad_pred = np.array(grad_pred).reshape(-1,1)\n",
    "    return grad_pred\n",
    "\"\"\"def hessian_gai(y_pred, y_true):\n",
    "    y_true, y_pred = np.array(y_true).reshape(-1,1), np.array(y_pred).reshape(-1,1)\n",
    "    return 0*(y_true + y_pred) + 1\"\"\"\n",
    "def hessian_gai(y_pred, y_true):\n",
    "    y_true, y_pred = np.array(y_true).reshape(-1,1), np.array(y_pred).reshape(-1,1)\n",
    "    return 0*(y_true + y_pred) + 1\n",
    "def Im_bmse_loss(y_true,y_pred):\n",
    "    grad = gradient_gai(y_pred, y_true)\n",
    "    hess = hessian_gai(y_pred, y_true)\n",
    "    return grad, hess"
   ]
  },
  {
   "cell_type": "code",
   "execution_count": 47,
   "id": "89891ce7-6632-42b6-8946-c3f3dafd7bc1",
   "metadata": {},
   "outputs": [
    {
     "name": "stdout",
     "output_type": "stream",
     "text": [
      "[0]\tvalidation_0-rmse:13.75126\n",
      "[1]\tvalidation_0-rmse:7.46211\n",
      "[2]\tvalidation_0-rmse:5.47361\n",
      "[3]\tvalidation_0-rmse:4.65419\n",
      "[4]\tvalidation_0-rmse:4.43486\n",
      "[5]\tvalidation_0-rmse:4.21981\n",
      "[6]\tvalidation_0-rmse:4.18832\n",
      "[7]\tvalidation_0-rmse:4.22433\n",
      "[8]\tvalidation_0-rmse:4.21851\n",
      "[9]\tvalidation_0-rmse:4.20951\n",
      "[10]\tvalidation_0-rmse:4.19807\n",
      "[11]\tvalidation_0-rmse:4.20260\n",
      "[12]\tvalidation_0-rmse:4.20165\n",
      "[13]\tvalidation_0-rmse:4.19522\n",
      "[14]\tvalidation_0-rmse:4.17225\n",
      "[15]\tvalidation_0-rmse:4.13525\n",
      "[16]\tvalidation_0-rmse:4.13549\n",
      "[17]\tvalidation_0-rmse:4.12234\n",
      "[18]\tvalidation_0-rmse:4.13020\n",
      "[19]\tvalidation_0-rmse:4.13730\n",
      "[20]\tvalidation_0-rmse:4.11132\n",
      "[21]\tvalidation_0-rmse:4.11178\n",
      "[22]\tvalidation_0-rmse:4.10084\n",
      "[23]\tvalidation_0-rmse:4.06662\n",
      "[24]\tvalidation_0-rmse:4.06652\n",
      "[25]\tvalidation_0-rmse:4.06587\n",
      "[26]\tvalidation_0-rmse:4.07309\n",
      "[27]\tvalidation_0-rmse:4.07229\n",
      "[28]\tvalidation_0-rmse:4.07155\n",
      "[29]\tvalidation_0-rmse:4.06858\n",
      "[30]\tvalidation_0-rmse:4.06903\n",
      "[31]\tvalidation_0-rmse:4.02857\n",
      "[32]\tvalidation_0-rmse:4.02043\n",
      "[33]\tvalidation_0-rmse:4.01989\n",
      "[34]\tvalidation_0-rmse:4.01976\n",
      "[35]\tvalidation_0-rmse:4.01853\n",
      "[36]\tvalidation_0-rmse:4.01773\n",
      "[37]\tvalidation_0-rmse:4.01775\n",
      "[38]\tvalidation_0-rmse:4.01769\n",
      "[39]\tvalidation_0-rmse:3.99865\n",
      "[40]\tvalidation_0-rmse:3.99078\n",
      "[41]\tvalidation_0-rmse:3.98898\n",
      "[42]\tvalidation_0-rmse:3.98845\n",
      "[43]\tvalidation_0-rmse:3.98863\n",
      "[44]\tvalidation_0-rmse:3.98864\n",
      "[45]\tvalidation_0-rmse:3.98879\n",
      "[46]\tvalidation_0-rmse:3.98955\n",
      "[47]\tvalidation_0-rmse:3.98937\n",
      "[48]\tvalidation_0-rmse:3.98942\n",
      "[49]\tvalidation_0-rmse:3.98948\n"
     ]
    }
   ],
   "source": [
    "import xgboost as xgb\n",
    "Imr_gb_boston = xgb.XGBRegressor(n_estimators=50,\n",
    "                             #max_depth = 5,\n",
    "                             #colsample_bytree = 0.8,\n",
    "                             objective = Im_bmse_loss,\n",
    "                             #eval_metric = mean_absolute_error\n",
    "                             random_state=1\n",
    "                            )\n",
    "Imr_gb_boston.fit(x_boston_train, y_boston_train,  eval_set=[(x_boston_val, y_boston_val)])\n",
    "Imr_gb_boston_pred = Imr_gb_boston.predict(x_boston_test)"
   ]
  },
  {
   "cell_type": "code",
   "execution_count": 48,
   "id": "534db32c-2613-49b7-b42b-6116f08255a8",
   "metadata": {},
   "outputs": [
    {
     "name": "stdout",
     "output_type": "stream",
     "text": [
      " * Overall: MSE 25.039\tL1 3.521\tG-Mean 2.055\n",
      " * Many: MSE 7.010\tL1 1.983\tG-Mean 1.392\n",
      " * Median: MSE 35.347\tL1 4.406\tG-Mean 2.661\n",
      " * Low: MSE 39.448\tL1 4.843\tG-Mean 2.437\n",
      " * Many_shot 27.000\tMedian 32.000\tLow_shot 17.000\n"
     ]
    }
   ],
   "source": [
    "#%%   shot metrics  3\n",
    "import shot_metric\n",
    "shot_metric.val_metrics(Imr_gb_boston_pred, y_boston_test, y_boston_train)"
   ]
  },
  {
   "cell_type": "code",
   "execution_count": 78,
   "id": "20287570-d546-4b6b-b3eb-c1ba4fa50df1",
   "metadata": {},
   "outputs": [],
   "source": [
    "import numpy as np\n",
    "import torch\n",
    "from torch.distributions import MultivariateNormal as MVN\n",
    "import torch.nn.functional as F\n",
    "from sklearn.mixture import GaussianMixture\n",
    "y_train = y_boston_train               #  prior distribution\n",
    "# gradient\n",
    "def get_gmm(dist, n_components):\n",
    "    # fit a **ground truth** label distribution\n",
    "    all_labels = torch.tensor(dist)\n",
    "    if len(all_labels.shape) == 1:\n",
    "        all_labels = all_labels.unsqueeze(-1)\n",
    "    gmm = GaussianMixture(n_components=n_components).fit(all_labels)\n",
    "    gmm_dict = {'means': gmm.means_, 'weights': gmm.weights_, 'variances': gmm.covariances_}\n",
    "    return gmm_dict\n",
    "def gradient_gai(y_pred, y_true):\n",
    "    gmm = get_gmm(dist= y_train, n_components=5 # GaussianMixture components\n",
    "                 )\n",
    "    gmm = {k: torch.tensor(gmm[k]) for k in gmm}\n",
    "    noise_var = 1.\n",
    "    target, pred = torch.tensor(y_true).reshape(-1,1), torch.tensor(y_pred).reshape(-1,1).requires_grad_()\n",
    "    I = torch.eye(target.shape[-1])\n",
    "    mse_term = -MVN(target, noise_var*I).log_prob(pred)\n",
    "    balancing_term = MVN(gmm['means'], gmm['variances']+noise_var*I).log_prob(pred.unsqueeze(1)) + gmm['weights'].log()\n",
    "    balancing_term = torch.logsumexp(balancing_term, dim=1)\n",
    "    loss = mse_term + balancing_term\n",
    "    loss = (loss * (2 * noise_var)).sum()\n",
    "    loss.backward()\n",
    "    grad_pred = pred.grad\n",
    "    grad_pred = np.array(grad_pred).reshape(-1,1)\n",
    "    return grad_pred\n",
    "\"\"\"def hessian_gai(y_pred, y_true):\n",
    "    y_true, y_pred = np.array(y_true).reshape(-1,1), np.array(y_pred).reshape(-1,1)\n",
    "    return 0*(y_true + y_pred) + 1\"\"\"\n",
    "def hessian_gai(y_pred, y_true):\n",
    "    y_true, y_pred = np.array(y_true).reshape(-1,1), np.array(y_pred).reshape(-1,1)\n",
    "    return 0*(y_true + y_pred) + 1\n",
    "def Im_bmse_loss(y_true,y_pred):\n",
    "    grad = gradient_gai(y_pred, y_true)\n",
    "    hess = hessian_gai(y_pred, y_true)\n",
    "    return grad, hess"
   ]
  },
  {
   "cell_type": "code",
   "execution_count": 79,
   "id": "6f57b9ff-af27-4f9c-ac4e-d26bfc5b101d",
   "metadata": {},
   "outputs": [
    {
     "name": "stdout",
     "output_type": "stream",
     "text": [
      "[0]\tvalidation_0-rmse:14.02316\n",
      "[1]\tvalidation_0-rmse:8.54772\n",
      "[2]\tvalidation_0-rmse:6.06241\n",
      "[3]\tvalidation_0-rmse:5.22621\n",
      "[4]\tvalidation_0-rmse:5.09168\n",
      "[5]\tvalidation_0-rmse:5.00406\n",
      "[6]\tvalidation_0-rmse:4.97401\n",
      "[7]\tvalidation_0-rmse:4.89291\n",
      "[8]\tvalidation_0-rmse:4.88905\n",
      "[9]\tvalidation_0-rmse:4.89366\n",
      "[10]\tvalidation_0-rmse:4.89702\n",
      "[11]\tvalidation_0-rmse:4.84442\n",
      "[12]\tvalidation_0-rmse:4.84229\n",
      "[13]\tvalidation_0-rmse:4.83087\n",
      "[14]\tvalidation_0-rmse:4.82425\n",
      "[15]\tvalidation_0-rmse:4.81031\n",
      "[16]\tvalidation_0-rmse:4.80595\n",
      "[17]\tvalidation_0-rmse:4.80786\n",
      "[18]\tvalidation_0-rmse:4.80556\n",
      "[19]\tvalidation_0-rmse:4.79128\n",
      "[20]\tvalidation_0-rmse:4.78954\n",
      "[21]\tvalidation_0-rmse:4.79127\n",
      "[22]\tvalidation_0-rmse:4.79271\n",
      "[23]\tvalidation_0-rmse:4.77899\n",
      "[24]\tvalidation_0-rmse:4.78109\n",
      "[25]\tvalidation_0-rmse:4.78273\n",
      "[26]\tvalidation_0-rmse:4.77984\n",
      "[27]\tvalidation_0-rmse:4.77731\n",
      "[28]\tvalidation_0-rmse:4.77589\n",
      "[29]\tvalidation_0-rmse:4.77682\n",
      "[30]\tvalidation_0-rmse:4.77726\n",
      "[31]\tvalidation_0-rmse:4.77393\n",
      "[32]\tvalidation_0-rmse:4.77459\n",
      "[33]\tvalidation_0-rmse:4.77650\n",
      "[34]\tvalidation_0-rmse:4.77882\n",
      "[35]\tvalidation_0-rmse:4.77810\n",
      "[36]\tvalidation_0-rmse:4.77693\n",
      "[37]\tvalidation_0-rmse:4.77962\n",
      "[38]\tvalidation_0-rmse:4.77890\n",
      "[39]\tvalidation_0-rmse:4.77814\n",
      "[40]\tvalidation_0-rmse:4.77941\n",
      "[41]\tvalidation_0-rmse:4.78045\n",
      "[42]\tvalidation_0-rmse:4.78015\n",
      "[43]\tvalidation_0-rmse:4.78101\n",
      "[44]\tvalidation_0-rmse:4.78087\n",
      "[45]\tvalidation_0-rmse:4.78105\n",
      "[46]\tvalidation_0-rmse:4.78090\n",
      "[47]\tvalidation_0-rmse:4.78034\n",
      "[48]\tvalidation_0-rmse:4.78050\n",
      "[49]\tvalidation_0-rmse:4.78080\n"
     ]
    }
   ],
   "source": [
    "#%%%   Imr-gb   5\n",
    "import xgboost as xgb\n",
    "Imr_gb_boston = xgb.XGBRegressor(n_estimators=50,\n",
    "                             #max_depth = 5,\n",
    "                             #colsample_bytree = 0.8,\n",
    "                             objective = Im_bmse_loss,\n",
    "                             #eval_metric = mean_absolute_error\n",
    "                             random_state=1\n",
    "                            )\n",
    "Imr_gb_boston.fit(x_boston_train, y_boston_train,  eval_set=[(x_boston_val, y_boston_val)])\n",
    "Imr_gb_boston_pred = Imr_gb_boston.predict(x_boston_test)"
   ]
  },
  {
   "cell_type": "code",
   "execution_count": 80,
   "id": "4d5e8678-0f4b-4dc1-a6dc-548713095350",
   "metadata": {},
   "outputs": [
    {
     "name": "stdout",
     "output_type": "stream",
     "text": [
      " * Overall: MSE 21.370\tL1 3.401\tG-Mean 2.210\n",
      " * Many: MSE 7.643\tL1 2.250\tG-Mean 1.726\n",
      " * Median: MSE 28.738\tL1 3.983\tG-Mean 2.582\n",
      " * Low: MSE 31.427\tL1 4.511\tG-Mean 3.130\n",
      " * Many_shot 27.000\tMedian 32.000\tLow_shot 17.000\n"
     ]
    }
   ],
   "source": [
    "#%%   shot metrics  5\n",
    "import shot_metric\n",
    "shot_metric.val_metrics(Imr_gb_boston_pred, y_boston_test, y_boston_train)"
   ]
  },
  {
   "cell_type": "code",
   "execution_count": 73,
   "id": "240d1579-6d84-4a0d-b813-3b8a7b34c155",
   "metadata": {},
   "outputs": [],
   "source": [
    "import numpy as np\n",
    "import torch\n",
    "from torch.distributions import MultivariateNormal as MVN\n",
    "import torch.nn.functional as F\n",
    "from sklearn.mixture import GaussianMixture\n",
    "y_train = y_boston_train               #  prior distribution\n",
    "# gradient\n",
    "def get_gmm(dist, n_components):\n",
    "    # fit a **ground truth** label distribution\n",
    "    all_labels = torch.tensor(dist)\n",
    "    if len(all_labels.shape) == 1:\n",
    "        all_labels = all_labels.unsqueeze(-1)\n",
    "    gmm = GaussianMixture(n_components=n_components).fit(all_labels)\n",
    "    gmm_dict = {'means': gmm.means_, 'weights': gmm.weights_, 'variances': gmm.covariances_}\n",
    "    return gmm_dict\n",
    "def gradient_gai(y_pred, y_true):\n",
    "    gmm = get_gmm(dist= y_train, n_components=7 # GaussianMixture components\n",
    "                 )\n",
    "    gmm = {k: torch.tensor(gmm[k]) for k in gmm}\n",
    "    noise_var = 1.\n",
    "    target, pred = torch.tensor(y_true).reshape(-1,1), torch.tensor(y_pred).reshape(-1,1).requires_grad_()\n",
    "    I = torch.eye(target.shape[-1])\n",
    "    mse_term = -MVN(target, noise_var*I).log_prob(pred)\n",
    "    balancing_term = MVN(gmm['means'], gmm['variances']+noise_var*I).log_prob(pred.unsqueeze(1)) + gmm['weights'].log()\n",
    "    balancing_term = torch.logsumexp(balancing_term, dim=1)\n",
    "    loss = mse_term + balancing_term\n",
    "    loss = (loss * (2 * noise_var)).sum()\n",
    "    loss.backward()\n",
    "    grad_pred = pred.grad\n",
    "    grad_pred = np.array(grad_pred).reshape(-1,1)\n",
    "    return grad_pred\n",
    "\"\"\"def hessian_gai(y_pred, y_true):\n",
    "    y_true, y_pred = np.array(y_true).reshape(-1,1), np.array(y_pred).reshape(-1,1)\n",
    "    return 0*(y_true + y_pred) + 1\"\"\"\n",
    "def hessian_gai(y_pred, y_true):\n",
    "    y_true, y_pred = np.array(y_true).reshape(-1,1), np.array(y_pred).reshape(-1,1)\n",
    "    return 0*(y_true + y_pred) + 1\n",
    "def Im_bmse_loss(y_true,y_pred):\n",
    "    grad = gradient_gai(y_pred, y_true)\n",
    "    hess = hessian_gai(y_pred, y_true)\n",
    "    return grad, hess"
   ]
  },
  {
   "cell_type": "code",
   "execution_count": 76,
   "id": "874d4b0a-dd7a-474b-9cc9-aba5c569c19d",
   "metadata": {},
   "outputs": [
    {
     "name": "stdout",
     "output_type": "stream",
     "text": [
      "[0]\tvalidation_0-rmse:14.33445\n",
      "[1]\tvalidation_0-rmse:7.54352\n",
      "[2]\tvalidation_0-rmse:5.39643\n",
      "[3]\tvalidation_0-rmse:4.50554\n",
      "[4]\tvalidation_0-rmse:4.28987\n",
      "[5]\tvalidation_0-rmse:4.10452\n",
      "[6]\tvalidation_0-rmse:4.02792\n",
      "[7]\tvalidation_0-rmse:3.98276\n",
      "[8]\tvalidation_0-rmse:3.96033\n",
      "[9]\tvalidation_0-rmse:3.95652\n",
      "[10]\tvalidation_0-rmse:3.98080\n",
      "[11]\tvalidation_0-rmse:3.97950\n",
      "[12]\tvalidation_0-rmse:3.94580\n",
      "[13]\tvalidation_0-rmse:3.95871\n",
      "[14]\tvalidation_0-rmse:3.95635\n",
      "[15]\tvalidation_0-rmse:3.95173\n",
      "[16]\tvalidation_0-rmse:3.96005\n",
      "[17]\tvalidation_0-rmse:3.96877\n",
      "[18]\tvalidation_0-rmse:3.96874\n",
      "[19]\tvalidation_0-rmse:3.96519\n",
      "[20]\tvalidation_0-rmse:3.96037\n",
      "[21]\tvalidation_0-rmse:3.96018\n",
      "[22]\tvalidation_0-rmse:3.96722\n",
      "[23]\tvalidation_0-rmse:3.97106\n",
      "[24]\tvalidation_0-rmse:3.97263\n",
      "[25]\tvalidation_0-rmse:3.97775\n",
      "[26]\tvalidation_0-rmse:3.97636\n",
      "[27]\tvalidation_0-rmse:3.97119\n",
      "[28]\tvalidation_0-rmse:3.96877\n",
      "[29]\tvalidation_0-rmse:3.96724\n",
      "[30]\tvalidation_0-rmse:3.96482\n",
      "[31]\tvalidation_0-rmse:3.96644\n",
      "[32]\tvalidation_0-rmse:3.95443\n",
      "[33]\tvalidation_0-rmse:3.95320\n",
      "[34]\tvalidation_0-rmse:3.95924\n",
      "[35]\tvalidation_0-rmse:3.95782\n",
      "[36]\tvalidation_0-rmse:3.95984\n",
      "[37]\tvalidation_0-rmse:3.96001\n",
      "[38]\tvalidation_0-rmse:3.95889\n",
      "[39]\tvalidation_0-rmse:3.95866\n",
      "[40]\tvalidation_0-rmse:3.95808\n",
      "[41]\tvalidation_0-rmse:3.95640\n",
      "[42]\tvalidation_0-rmse:3.95737\n",
      "[43]\tvalidation_0-rmse:3.95109\n",
      "[44]\tvalidation_0-rmse:3.95275\n",
      "[45]\tvalidation_0-rmse:3.95261\n",
      "[46]\tvalidation_0-rmse:3.95355\n",
      "[47]\tvalidation_0-rmse:3.95279\n",
      "[48]\tvalidation_0-rmse:3.94179\n",
      "[49]\tvalidation_0-rmse:3.94070\n"
     ]
    }
   ],
   "source": [
    "#%%%   Imr-gb   \n",
    "import xgboost as xgb\n",
    "Imr_gb_boston = xgb.XGBRegressor(n_estimators=50,\n",
    "                             #max_depth = 5,\n",
    "                             #colsample_bytree = 0.8,\n",
    "                             objective = Im_bmse_loss,\n",
    "                             #eval_metric = mean_absolute_error\n",
    "                             random_state=1\n",
    "                            )\n",
    "Imr_gb_boston.fit(x_boston_train, y_boston_train,  eval_set=[(x_boston_val, y_boston_val)])\n",
    "Imr_gb_boston_pred = Imr_gb_boston.predict(x_boston_test)"
   ]
  },
  {
   "cell_type": "code",
   "execution_count": 77,
   "id": "3d4b4543-ac63-4d2c-b023-cd1534bc288b",
   "metadata": {},
   "outputs": [
    {
     "name": "stdout",
     "output_type": "stream",
     "text": [
      " * Overall: MSE 21.112\tL1 3.305\tG-Mean 1.838\n",
      " * Many: MSE 7.950\tL1 2.143\tG-Mean 1.488\n",
      " * Median: MSE 30.785\tL1 3.987\tG-Mean 2.140\n",
      " * Low: MSE 27.536\tL1 4.229\tG-Mean 2.552\n",
      " * Many_shot 27.000\tMedian 32.000\tLow_shot 17.000\n"
     ]
    }
   ],
   "source": [
    "#%%   shot metrics   7\n",
    "import shot_metric\n",
    "shot_metric.val_metrics(Imr_gb_boston_pred, y_boston_test, y_boston_train)"
   ]
  },
  {
   "cell_type": "markdown",
   "id": "9436fb82-367d-488e-b5ad-a8066e9e141f",
   "metadata": {},
   "source": [
    "### Imr-bay-gb"
   ]
  },
  {
   "cell_type": "code",
   "execution_count": 9,
   "id": "8eecdc20-8933-4253-a995-80b5dca21736",
   "metadata": {},
   "outputs": [],
   "source": [
    "#%%%   Imr-gb\n",
    "import numpy as np\n",
    "import torch\n",
    "from torch.distributions import MultivariateNormal as MVN\n",
    "import torch.nn.functional as F\n",
    "from sklearn.mixture import BayesianGaussianMixture\n",
    "y_train = y_boston_train               #  prior distribution!!!!\n",
    "n_components = int(0.1*len(y_train))   # up boundary\n",
    "# gradient\n",
    "def get_bgm(dist):\n",
    "    # fit a **ground truth** label distribution\n",
    "    all_labels = torch.tensor(dist)\n",
    "    if len(all_labels.shape) == 1:\n",
    "        all_labels = all_labels.unsqueeze(-1)\n",
    "    bgm = BayesianGaussianMixture(n_components= n_components, weight_concentration_prior_type=\"dirichlet_process\", \n",
    "                                  #mean_precision_prior=0.8,\n",
    "                                  init_params=\"random\",\n",
    "                                  random_state=1).fit(all_labels)\n",
    "    bgm_dict = {'means': bgm.means_, 'weights': bgm.weights_, 'variances': bgm.covariances_}\n",
    "    return bgm_dict\n",
    "def gradient_gai(y_pred, y_true):\n",
    "    bgm = get_bgm(dist= y_train)\n",
    "    bgm = {k: torch.tensor(bgm[k]) for k in bgm}\n",
    "    noise_var = 1.\n",
    "    target, pred = torch.tensor(y_true).reshape(-1,1), torch.tensor(y_pred).reshape(-1,1).requires_grad_()\n",
    "    I = torch.eye(target.shape[-1])\n",
    "    mse_term = -MVN(target, noise_var*I).log_prob(pred)\n",
    "    balancing_term = MVN(bgm['means'], bgm['variances']+noise_var*I).log_prob(pred.unsqueeze(1)) + bgm['weights'].log()\n",
    "    balancing_term = torch.logsumexp(balancing_term, dim=1)\n",
    "    loss = mse_term + balancing_term\n",
    "    loss = (loss * (2 * noise_var)).sum()\n",
    "    loss.backward()\n",
    "    grad_pred = pred.grad\n",
    "    grad_pred = np.array(grad_pred).reshape(-1,1)\n",
    "    return grad_pred\n",
    "\"\"\"def hessian_gai(y_pred, y_true):\n",
    "    y_true, y_pred = np.array(y_true).reshape(-1,1), np.array(y_pred).reshape(-1,1)\n",
    "    return 0*(y_true + y_pred) + 1\"\"\"\n",
    "def hessian_gai(y_pred, y_true):\n",
    "    y_true, y_pred = np.array(y_true).reshape(-1,1), np.array(y_pred).reshape(-1,1)\n",
    "    return 0*(y_true + y_pred) + 1\n",
    "def Im_bay_loss(y_true,y_pred):\n",
    "    grad = gradient_gai(y_pred, y_true)\n",
    "    hess = hessian_gai(y_pred, y_true)\n",
    "    return grad, hess"
   ]
  },
  {
   "cell_type": "code",
   "execution_count": 10,
   "id": "69b4aa26-a760-43a5-8094-ec5ee539c723",
   "metadata": {},
   "outputs": [
    {
     "name": "stdout",
     "output_type": "stream",
     "text": [
      "[0]\tvalidation_0-rmse:13.68604\n"
     ]
    },
    {
     "name": "stderr",
     "output_type": "stream",
     "text": [
      "D:\\Users\\admin\\anaconda3\\lib\\site-packages\\sklearn\\mixture\\_base.py:282: ConvergenceWarning: Initialization 1 did not converge. Try different init parameters, or increase max_iter, tol or check for degenerate data.\n",
      "  ConvergenceWarning,\n"
     ]
    },
    {
     "name": "stdout",
     "output_type": "stream",
     "text": [
      "[1]\tvalidation_0-rmse:7.41368\n"
     ]
    },
    {
     "name": "stderr",
     "output_type": "stream",
     "text": [
      "D:\\Users\\admin\\anaconda3\\lib\\site-packages\\sklearn\\mixture\\_base.py:282: ConvergenceWarning: Initialization 1 did not converge. Try different init parameters, or increase max_iter, tol or check for degenerate data.\n",
      "  ConvergenceWarning,\n"
     ]
    },
    {
     "name": "stdout",
     "output_type": "stream",
     "text": [
      "[2]\tvalidation_0-rmse:5.45350\n"
     ]
    },
    {
     "name": "stderr",
     "output_type": "stream",
     "text": [
      "D:\\Users\\admin\\anaconda3\\lib\\site-packages\\sklearn\\mixture\\_base.py:282: ConvergenceWarning: Initialization 1 did not converge. Try different init parameters, or increase max_iter, tol or check for degenerate data.\n",
      "  ConvergenceWarning,\n"
     ]
    },
    {
     "name": "stdout",
     "output_type": "stream",
     "text": [
      "[3]\tvalidation_0-rmse:4.85679\n"
     ]
    },
    {
     "name": "stderr",
     "output_type": "stream",
     "text": [
      "D:\\Users\\admin\\anaconda3\\lib\\site-packages\\sklearn\\mixture\\_base.py:282: ConvergenceWarning: Initialization 1 did not converge. Try different init parameters, or increase max_iter, tol or check for degenerate data.\n",
      "  ConvergenceWarning,\n"
     ]
    },
    {
     "name": "stdout",
     "output_type": "stream",
     "text": [
      "[4]\tvalidation_0-rmse:4.58249\n"
     ]
    },
    {
     "name": "stderr",
     "output_type": "stream",
     "text": [
      "D:\\Users\\admin\\anaconda3\\lib\\site-packages\\sklearn\\mixture\\_base.py:282: ConvergenceWarning: Initialization 1 did not converge. Try different init parameters, or increase max_iter, tol or check for degenerate data.\n",
      "  ConvergenceWarning,\n"
     ]
    },
    {
     "name": "stdout",
     "output_type": "stream",
     "text": [
      "[5]\tvalidation_0-rmse:4.48227\n"
     ]
    },
    {
     "name": "stderr",
     "output_type": "stream",
     "text": [
      "D:\\Users\\admin\\anaconda3\\lib\\site-packages\\sklearn\\mixture\\_base.py:282: ConvergenceWarning: Initialization 1 did not converge. Try different init parameters, or increase max_iter, tol or check for degenerate data.\n",
      "  ConvergenceWarning,\n"
     ]
    },
    {
     "name": "stdout",
     "output_type": "stream",
     "text": [
      "[6]\tvalidation_0-rmse:4.48668\n"
     ]
    },
    {
     "name": "stderr",
     "output_type": "stream",
     "text": [
      "D:\\Users\\admin\\anaconda3\\lib\\site-packages\\sklearn\\mixture\\_base.py:282: ConvergenceWarning: Initialization 1 did not converge. Try different init parameters, or increase max_iter, tol or check for degenerate data.\n",
      "  ConvergenceWarning,\n"
     ]
    },
    {
     "name": "stdout",
     "output_type": "stream",
     "text": [
      "[7]\tvalidation_0-rmse:4.49245\n"
     ]
    },
    {
     "name": "stderr",
     "output_type": "stream",
     "text": [
      "D:\\Users\\admin\\anaconda3\\lib\\site-packages\\sklearn\\mixture\\_base.py:282: ConvergenceWarning: Initialization 1 did not converge. Try different init parameters, or increase max_iter, tol or check for degenerate data.\n",
      "  ConvergenceWarning,\n"
     ]
    },
    {
     "name": "stdout",
     "output_type": "stream",
     "text": [
      "[8]\tvalidation_0-rmse:4.43775\n"
     ]
    },
    {
     "name": "stderr",
     "output_type": "stream",
     "text": [
      "D:\\Users\\admin\\anaconda3\\lib\\site-packages\\sklearn\\mixture\\_base.py:282: ConvergenceWarning: Initialization 1 did not converge. Try different init parameters, or increase max_iter, tol or check for degenerate data.\n",
      "  ConvergenceWarning,\n"
     ]
    },
    {
     "name": "stdout",
     "output_type": "stream",
     "text": [
      "[9]\tvalidation_0-rmse:4.24973\n"
     ]
    },
    {
     "name": "stderr",
     "output_type": "stream",
     "text": [
      "D:\\Users\\admin\\anaconda3\\lib\\site-packages\\sklearn\\mixture\\_base.py:282: ConvergenceWarning: Initialization 1 did not converge. Try different init parameters, or increase max_iter, tol or check for degenerate data.\n",
      "  ConvergenceWarning,\n"
     ]
    },
    {
     "name": "stdout",
     "output_type": "stream",
     "text": [
      "[10]\tvalidation_0-rmse:4.24161\n"
     ]
    },
    {
     "name": "stderr",
     "output_type": "stream",
     "text": [
      "D:\\Users\\admin\\anaconda3\\lib\\site-packages\\sklearn\\mixture\\_base.py:282: ConvergenceWarning: Initialization 1 did not converge. Try different init parameters, or increase max_iter, tol or check for degenerate data.\n",
      "  ConvergenceWarning,\n"
     ]
    },
    {
     "name": "stdout",
     "output_type": "stream",
     "text": [
      "[11]\tvalidation_0-rmse:4.22257\n"
     ]
    },
    {
     "name": "stderr",
     "output_type": "stream",
     "text": [
      "D:\\Users\\admin\\anaconda3\\lib\\site-packages\\sklearn\\mixture\\_base.py:282: ConvergenceWarning: Initialization 1 did not converge. Try different init parameters, or increase max_iter, tol or check for degenerate data.\n",
      "  ConvergenceWarning,\n"
     ]
    },
    {
     "name": "stdout",
     "output_type": "stream",
     "text": [
      "[12]\tvalidation_0-rmse:4.22434\n"
     ]
    },
    {
     "name": "stderr",
     "output_type": "stream",
     "text": [
      "D:\\Users\\admin\\anaconda3\\lib\\site-packages\\sklearn\\mixture\\_base.py:282: ConvergenceWarning: Initialization 1 did not converge. Try different init parameters, or increase max_iter, tol or check for degenerate data.\n",
      "  ConvergenceWarning,\n"
     ]
    },
    {
     "name": "stdout",
     "output_type": "stream",
     "text": [
      "[13]\tvalidation_0-rmse:4.22438\n"
     ]
    },
    {
     "name": "stderr",
     "output_type": "stream",
     "text": [
      "D:\\Users\\admin\\anaconda3\\lib\\site-packages\\sklearn\\mixture\\_base.py:282: ConvergenceWarning: Initialization 1 did not converge. Try different init parameters, or increase max_iter, tol or check for degenerate data.\n",
      "  ConvergenceWarning,\n"
     ]
    },
    {
     "name": "stdout",
     "output_type": "stream",
     "text": [
      "[14]\tvalidation_0-rmse:4.22633\n"
     ]
    },
    {
     "name": "stderr",
     "output_type": "stream",
     "text": [
      "D:\\Users\\admin\\anaconda3\\lib\\site-packages\\sklearn\\mixture\\_base.py:282: ConvergenceWarning: Initialization 1 did not converge. Try different init parameters, or increase max_iter, tol or check for degenerate data.\n",
      "  ConvergenceWarning,\n"
     ]
    },
    {
     "name": "stdout",
     "output_type": "stream",
     "text": [
      "[15]\tvalidation_0-rmse:4.21284\n"
     ]
    },
    {
     "name": "stderr",
     "output_type": "stream",
     "text": [
      "D:\\Users\\admin\\anaconda3\\lib\\site-packages\\sklearn\\mixture\\_base.py:282: ConvergenceWarning: Initialization 1 did not converge. Try different init parameters, or increase max_iter, tol or check for degenerate data.\n",
      "  ConvergenceWarning,\n"
     ]
    },
    {
     "name": "stdout",
     "output_type": "stream",
     "text": [
      "[16]\tvalidation_0-rmse:4.20216\n"
     ]
    },
    {
     "name": "stderr",
     "output_type": "stream",
     "text": [
      "D:\\Users\\admin\\anaconda3\\lib\\site-packages\\sklearn\\mixture\\_base.py:282: ConvergenceWarning: Initialization 1 did not converge. Try different init parameters, or increase max_iter, tol or check for degenerate data.\n",
      "  ConvergenceWarning,\n"
     ]
    },
    {
     "name": "stdout",
     "output_type": "stream",
     "text": [
      "[17]\tvalidation_0-rmse:4.20539\n"
     ]
    },
    {
     "name": "stderr",
     "output_type": "stream",
     "text": [
      "D:\\Users\\admin\\anaconda3\\lib\\site-packages\\sklearn\\mixture\\_base.py:282: ConvergenceWarning: Initialization 1 did not converge. Try different init parameters, or increase max_iter, tol or check for degenerate data.\n",
      "  ConvergenceWarning,\n"
     ]
    },
    {
     "name": "stdout",
     "output_type": "stream",
     "text": [
      "[18]\tvalidation_0-rmse:4.20484\n"
     ]
    },
    {
     "name": "stderr",
     "output_type": "stream",
     "text": [
      "D:\\Users\\admin\\anaconda3\\lib\\site-packages\\sklearn\\mixture\\_base.py:282: ConvergenceWarning: Initialization 1 did not converge. Try different init parameters, or increase max_iter, tol or check for degenerate data.\n",
      "  ConvergenceWarning,\n"
     ]
    },
    {
     "name": "stdout",
     "output_type": "stream",
     "text": [
      "[19]\tvalidation_0-rmse:4.19575\n"
     ]
    },
    {
     "name": "stderr",
     "output_type": "stream",
     "text": [
      "D:\\Users\\admin\\anaconda3\\lib\\site-packages\\sklearn\\mixture\\_base.py:282: ConvergenceWarning: Initialization 1 did not converge. Try different init parameters, or increase max_iter, tol or check for degenerate data.\n",
      "  ConvergenceWarning,\n"
     ]
    },
    {
     "name": "stdout",
     "output_type": "stream",
     "text": [
      "[20]\tvalidation_0-rmse:4.19132\n"
     ]
    },
    {
     "name": "stderr",
     "output_type": "stream",
     "text": [
      "D:\\Users\\admin\\anaconda3\\lib\\site-packages\\sklearn\\mixture\\_base.py:282: ConvergenceWarning: Initialization 1 did not converge. Try different init parameters, or increase max_iter, tol or check for degenerate data.\n",
      "  ConvergenceWarning,\n"
     ]
    },
    {
     "name": "stdout",
     "output_type": "stream",
     "text": [
      "[21]\tvalidation_0-rmse:4.19984\n"
     ]
    },
    {
     "name": "stderr",
     "output_type": "stream",
     "text": [
      "D:\\Users\\admin\\anaconda3\\lib\\site-packages\\sklearn\\mixture\\_base.py:282: ConvergenceWarning: Initialization 1 did not converge. Try different init parameters, or increase max_iter, tol or check for degenerate data.\n",
      "  ConvergenceWarning,\n"
     ]
    },
    {
     "name": "stdout",
     "output_type": "stream",
     "text": [
      "[22]\tvalidation_0-rmse:4.19482\n"
     ]
    },
    {
     "name": "stderr",
     "output_type": "stream",
     "text": [
      "D:\\Users\\admin\\anaconda3\\lib\\site-packages\\sklearn\\mixture\\_base.py:282: ConvergenceWarning: Initialization 1 did not converge. Try different init parameters, or increase max_iter, tol or check for degenerate data.\n",
      "  ConvergenceWarning,\n"
     ]
    },
    {
     "name": "stdout",
     "output_type": "stream",
     "text": [
      "[23]\tvalidation_0-rmse:4.19327\n"
     ]
    },
    {
     "name": "stderr",
     "output_type": "stream",
     "text": [
      "D:\\Users\\admin\\anaconda3\\lib\\site-packages\\sklearn\\mixture\\_base.py:282: ConvergenceWarning: Initialization 1 did not converge. Try different init parameters, or increase max_iter, tol or check for degenerate data.\n",
      "  ConvergenceWarning,\n"
     ]
    },
    {
     "name": "stdout",
     "output_type": "stream",
     "text": [
      "[24]\tvalidation_0-rmse:4.19204\n"
     ]
    },
    {
     "name": "stderr",
     "output_type": "stream",
     "text": [
      "D:\\Users\\admin\\anaconda3\\lib\\site-packages\\sklearn\\mixture\\_base.py:282: ConvergenceWarning: Initialization 1 did not converge. Try different init parameters, or increase max_iter, tol or check for degenerate data.\n",
      "  ConvergenceWarning,\n"
     ]
    },
    {
     "name": "stdout",
     "output_type": "stream",
     "text": [
      "[25]\tvalidation_0-rmse:4.18863\n"
     ]
    },
    {
     "name": "stderr",
     "output_type": "stream",
     "text": [
      "D:\\Users\\admin\\anaconda3\\lib\\site-packages\\sklearn\\mixture\\_base.py:282: ConvergenceWarning: Initialization 1 did not converge. Try different init parameters, or increase max_iter, tol or check for degenerate data.\n",
      "  ConvergenceWarning,\n"
     ]
    },
    {
     "name": "stdout",
     "output_type": "stream",
     "text": [
      "[26]\tvalidation_0-rmse:4.18888\n"
     ]
    },
    {
     "name": "stderr",
     "output_type": "stream",
     "text": [
      "D:\\Users\\admin\\anaconda3\\lib\\site-packages\\sklearn\\mixture\\_base.py:282: ConvergenceWarning: Initialization 1 did not converge. Try different init parameters, or increase max_iter, tol or check for degenerate data.\n",
      "  ConvergenceWarning,\n"
     ]
    },
    {
     "name": "stdout",
     "output_type": "stream",
     "text": [
      "[27]\tvalidation_0-rmse:4.19032\n"
     ]
    },
    {
     "name": "stderr",
     "output_type": "stream",
     "text": [
      "D:\\Users\\admin\\anaconda3\\lib\\site-packages\\sklearn\\mixture\\_base.py:282: ConvergenceWarning: Initialization 1 did not converge. Try different init parameters, or increase max_iter, tol or check for degenerate data.\n",
      "  ConvergenceWarning,\n"
     ]
    },
    {
     "name": "stdout",
     "output_type": "stream",
     "text": [
      "[28]\tvalidation_0-rmse:4.19004\n"
     ]
    },
    {
     "name": "stderr",
     "output_type": "stream",
     "text": [
      "D:\\Users\\admin\\anaconda3\\lib\\site-packages\\sklearn\\mixture\\_base.py:282: ConvergenceWarning: Initialization 1 did not converge. Try different init parameters, or increase max_iter, tol or check for degenerate data.\n",
      "  ConvergenceWarning,\n"
     ]
    },
    {
     "name": "stdout",
     "output_type": "stream",
     "text": [
      "[29]\tvalidation_0-rmse:4.18908\n"
     ]
    },
    {
     "name": "stderr",
     "output_type": "stream",
     "text": [
      "D:\\Users\\admin\\anaconda3\\lib\\site-packages\\sklearn\\mixture\\_base.py:282: ConvergenceWarning: Initialization 1 did not converge. Try different init parameters, or increase max_iter, tol or check for degenerate data.\n",
      "  ConvergenceWarning,\n"
     ]
    },
    {
     "name": "stdout",
     "output_type": "stream",
     "text": [
      "[30]\tvalidation_0-rmse:4.18826\n"
     ]
    },
    {
     "name": "stderr",
     "output_type": "stream",
     "text": [
      "D:\\Users\\admin\\anaconda3\\lib\\site-packages\\sklearn\\mixture\\_base.py:282: ConvergenceWarning: Initialization 1 did not converge. Try different init parameters, or increase max_iter, tol or check for degenerate data.\n",
      "  ConvergenceWarning,\n"
     ]
    },
    {
     "name": "stdout",
     "output_type": "stream",
     "text": [
      "[31]\tvalidation_0-rmse:4.19041\n"
     ]
    },
    {
     "name": "stderr",
     "output_type": "stream",
     "text": [
      "D:\\Users\\admin\\anaconda3\\lib\\site-packages\\sklearn\\mixture\\_base.py:282: ConvergenceWarning: Initialization 1 did not converge. Try different init parameters, or increase max_iter, tol or check for degenerate data.\n",
      "  ConvergenceWarning,\n"
     ]
    },
    {
     "name": "stdout",
     "output_type": "stream",
     "text": [
      "[32]\tvalidation_0-rmse:4.18833\n"
     ]
    },
    {
     "name": "stderr",
     "output_type": "stream",
     "text": [
      "D:\\Users\\admin\\anaconda3\\lib\\site-packages\\sklearn\\mixture\\_base.py:282: ConvergenceWarning: Initialization 1 did not converge. Try different init parameters, or increase max_iter, tol or check for degenerate data.\n",
      "  ConvergenceWarning,\n"
     ]
    },
    {
     "name": "stdout",
     "output_type": "stream",
     "text": [
      "[33]\tvalidation_0-rmse:4.18907\n"
     ]
    },
    {
     "name": "stderr",
     "output_type": "stream",
     "text": [
      "D:\\Users\\admin\\anaconda3\\lib\\site-packages\\sklearn\\mixture\\_base.py:282: ConvergenceWarning: Initialization 1 did not converge. Try different init parameters, or increase max_iter, tol or check for degenerate data.\n",
      "  ConvergenceWarning,\n"
     ]
    },
    {
     "name": "stdout",
     "output_type": "stream",
     "text": [
      "[34]\tvalidation_0-rmse:4.19015\n"
     ]
    },
    {
     "name": "stderr",
     "output_type": "stream",
     "text": [
      "D:\\Users\\admin\\anaconda3\\lib\\site-packages\\sklearn\\mixture\\_base.py:282: ConvergenceWarning: Initialization 1 did not converge. Try different init parameters, or increase max_iter, tol or check for degenerate data.\n",
      "  ConvergenceWarning,\n"
     ]
    },
    {
     "name": "stdout",
     "output_type": "stream",
     "text": [
      "[35]\tvalidation_0-rmse:4.19157\n"
     ]
    },
    {
     "name": "stderr",
     "output_type": "stream",
     "text": [
      "D:\\Users\\admin\\anaconda3\\lib\\site-packages\\sklearn\\mixture\\_base.py:282: ConvergenceWarning: Initialization 1 did not converge. Try different init parameters, or increase max_iter, tol or check for degenerate data.\n",
      "  ConvergenceWarning,\n"
     ]
    },
    {
     "name": "stdout",
     "output_type": "stream",
     "text": [
      "[36]\tvalidation_0-rmse:4.19159\n"
     ]
    },
    {
     "name": "stderr",
     "output_type": "stream",
     "text": [
      "D:\\Users\\admin\\anaconda3\\lib\\site-packages\\sklearn\\mixture\\_base.py:282: ConvergenceWarning: Initialization 1 did not converge. Try different init parameters, or increase max_iter, tol or check for degenerate data.\n",
      "  ConvergenceWarning,\n"
     ]
    },
    {
     "name": "stdout",
     "output_type": "stream",
     "text": [
      "[37]\tvalidation_0-rmse:4.19126\n"
     ]
    },
    {
     "name": "stderr",
     "output_type": "stream",
     "text": [
      "D:\\Users\\admin\\anaconda3\\lib\\site-packages\\sklearn\\mixture\\_base.py:282: ConvergenceWarning: Initialization 1 did not converge. Try different init parameters, or increase max_iter, tol or check for degenerate data.\n",
      "  ConvergenceWarning,\n"
     ]
    },
    {
     "name": "stdout",
     "output_type": "stream",
     "text": [
      "[38]\tvalidation_0-rmse:4.19168\n"
     ]
    },
    {
     "name": "stderr",
     "output_type": "stream",
     "text": [
      "D:\\Users\\admin\\anaconda3\\lib\\site-packages\\sklearn\\mixture\\_base.py:282: ConvergenceWarning: Initialization 1 did not converge. Try different init parameters, or increase max_iter, tol or check for degenerate data.\n",
      "  ConvergenceWarning,\n"
     ]
    },
    {
     "name": "stdout",
     "output_type": "stream",
     "text": [
      "[39]\tvalidation_0-rmse:4.19083\n"
     ]
    },
    {
     "name": "stderr",
     "output_type": "stream",
     "text": [
      "D:\\Users\\admin\\anaconda3\\lib\\site-packages\\sklearn\\mixture\\_base.py:282: ConvergenceWarning: Initialization 1 did not converge. Try different init parameters, or increase max_iter, tol or check for degenerate data.\n",
      "  ConvergenceWarning,\n"
     ]
    },
    {
     "name": "stdout",
     "output_type": "stream",
     "text": [
      "[40]\tvalidation_0-rmse:4.19058\n"
     ]
    },
    {
     "name": "stderr",
     "output_type": "stream",
     "text": [
      "D:\\Users\\admin\\anaconda3\\lib\\site-packages\\sklearn\\mixture\\_base.py:282: ConvergenceWarning: Initialization 1 did not converge. Try different init parameters, or increase max_iter, tol or check for degenerate data.\n",
      "  ConvergenceWarning,\n"
     ]
    },
    {
     "name": "stdout",
     "output_type": "stream",
     "text": [
      "[41]\tvalidation_0-rmse:4.19016\n"
     ]
    },
    {
     "name": "stderr",
     "output_type": "stream",
     "text": [
      "D:\\Users\\admin\\anaconda3\\lib\\site-packages\\sklearn\\mixture\\_base.py:282: ConvergenceWarning: Initialization 1 did not converge. Try different init parameters, or increase max_iter, tol or check for degenerate data.\n",
      "  ConvergenceWarning,\n"
     ]
    },
    {
     "name": "stdout",
     "output_type": "stream",
     "text": [
      "[42]\tvalidation_0-rmse:4.18986\n"
     ]
    },
    {
     "name": "stderr",
     "output_type": "stream",
     "text": [
      "D:\\Users\\admin\\anaconda3\\lib\\site-packages\\sklearn\\mixture\\_base.py:282: ConvergenceWarning: Initialization 1 did not converge. Try different init parameters, or increase max_iter, tol or check for degenerate data.\n",
      "  ConvergenceWarning,\n"
     ]
    },
    {
     "name": "stdout",
     "output_type": "stream",
     "text": [
      "[43]\tvalidation_0-rmse:4.18951\n"
     ]
    },
    {
     "name": "stderr",
     "output_type": "stream",
     "text": [
      "D:\\Users\\admin\\anaconda3\\lib\\site-packages\\sklearn\\mixture\\_base.py:282: ConvergenceWarning: Initialization 1 did not converge. Try different init parameters, or increase max_iter, tol or check for degenerate data.\n",
      "  ConvergenceWarning,\n"
     ]
    },
    {
     "name": "stdout",
     "output_type": "stream",
     "text": [
      "[44]\tvalidation_0-rmse:4.19001\n"
     ]
    },
    {
     "name": "stderr",
     "output_type": "stream",
     "text": [
      "D:\\Users\\admin\\anaconda3\\lib\\site-packages\\sklearn\\mixture\\_base.py:282: ConvergenceWarning: Initialization 1 did not converge. Try different init parameters, or increase max_iter, tol or check for degenerate data.\n",
      "  ConvergenceWarning,\n"
     ]
    },
    {
     "name": "stdout",
     "output_type": "stream",
     "text": [
      "[45]\tvalidation_0-rmse:4.18993\n"
     ]
    },
    {
     "name": "stderr",
     "output_type": "stream",
     "text": [
      "D:\\Users\\admin\\anaconda3\\lib\\site-packages\\sklearn\\mixture\\_base.py:282: ConvergenceWarning: Initialization 1 did not converge. Try different init parameters, or increase max_iter, tol or check for degenerate data.\n",
      "  ConvergenceWarning,\n"
     ]
    },
    {
     "name": "stdout",
     "output_type": "stream",
     "text": [
      "[46]\tvalidation_0-rmse:4.18984\n"
     ]
    },
    {
     "name": "stderr",
     "output_type": "stream",
     "text": [
      "D:\\Users\\admin\\anaconda3\\lib\\site-packages\\sklearn\\mixture\\_base.py:282: ConvergenceWarning: Initialization 1 did not converge. Try different init parameters, or increase max_iter, tol or check for degenerate data.\n",
      "  ConvergenceWarning,\n"
     ]
    },
    {
     "name": "stdout",
     "output_type": "stream",
     "text": [
      "[47]\tvalidation_0-rmse:4.19022\n"
     ]
    },
    {
     "name": "stderr",
     "output_type": "stream",
     "text": [
      "D:\\Users\\admin\\anaconda3\\lib\\site-packages\\sklearn\\mixture\\_base.py:282: ConvergenceWarning: Initialization 1 did not converge. Try different init parameters, or increase max_iter, tol or check for degenerate data.\n",
      "  ConvergenceWarning,\n"
     ]
    },
    {
     "name": "stdout",
     "output_type": "stream",
     "text": [
      "[48]\tvalidation_0-rmse:4.19024\n"
     ]
    },
    {
     "name": "stderr",
     "output_type": "stream",
     "text": [
      "D:\\Users\\admin\\anaconda3\\lib\\site-packages\\sklearn\\mixture\\_base.py:282: ConvergenceWarning: Initialization 1 did not converge. Try different init parameters, or increase max_iter, tol or check for degenerate data.\n",
      "  ConvergenceWarning,\n"
     ]
    },
    {
     "name": "stdout",
     "output_type": "stream",
     "text": [
      "[49]\tvalidation_0-rmse:4.19051\n"
     ]
    },
    {
     "name": "stderr",
     "output_type": "stream",
     "text": [
      "D:\\Users\\admin\\anaconda3\\lib\\site-packages\\sklearn\\mixture\\_base.py:282: ConvergenceWarning: Initialization 1 did not converge. Try different init parameters, or increase max_iter, tol or check for degenerate data.\n",
      "  ConvergenceWarning,\n"
     ]
    }
   ],
   "source": [
    "#%%%   Imr-bay-gb\n",
    "import xgboost as xgb\n",
    "Imr_gb_boston = xgb.XGBRegressor(n_estimators=50,\n",
    "\n",
    "                             objective = Im_bay_loss,\n",
    "                             #eval_metric = mean_absolute_error\n",
    "                             random_state=1\n",
    "                            )\n",
    "Imr_gb_boston.fit(x_boston_train, y_boston_train,  eval_set=[(x_boston_val, y_boston_val)])\n",
    "Imr_gb_boston_pred = Imr_gb_boston.predict(x_boston_test)"
   ]
  },
  {
   "cell_type": "code",
   "execution_count": 11,
   "id": "d990b05b-eac1-41cc-9d09-2e33e7308027",
   "metadata": {},
   "outputs": [
    {
     "name": "stdout",
     "output_type": "stream",
     "text": [
      " * Overall: MSE 22.579\tL1 3.544\tG-Mean 2.417\n",
      " * Many: MSE 6.738\tL1 2.034\tG-Mean 1.430\n",
      " * Median: MSE 32.846\tL1 4.498\tG-Mean 3.228\n",
      " * Low: MSE 32.886\tL1 4.656\tG-Mean 3.522\n",
      " * Many_shot 27.000\tMedian 32.000\tLow_shot 17.000\n"
     ]
    }
   ],
   "source": [
    "#%%   shot metrics  0.1\n",
    "import shot_metric\n",
    "shot_metric.val_metrics(Imr_gb_boston_pred, y_boston_test, y_boston_train)"
   ]
  },
  {
   "cell_type": "code",
   "execution_count": 7,
   "id": "6a34a61e-7372-4088-b7d5-cd2beb9902a4",
   "metadata": {},
   "outputs": [
    {
     "name": "stdout",
     "output_type": "stream",
     "text": [
      "[0]\tvalidation_0-rmse:13.66250\n"
     ]
    },
    {
     "name": "stderr",
     "output_type": "stream",
     "text": [
      "D:\\Users\\admin\\anaconda3\\lib\\site-packages\\sklearn\\mixture\\_base.py:282: ConvergenceWarning: Initialization 1 did not converge. Try different init parameters, or increase max_iter, tol or check for degenerate data.\n",
      "  ConvergenceWarning,\n"
     ]
    },
    {
     "name": "stdout",
     "output_type": "stream",
     "text": [
      "[1]\tvalidation_0-rmse:7.37970\n"
     ]
    },
    {
     "name": "stderr",
     "output_type": "stream",
     "text": [
      "D:\\Users\\admin\\anaconda3\\lib\\site-packages\\sklearn\\mixture\\_base.py:282: ConvergenceWarning: Initialization 1 did not converge. Try different init parameters, or increase max_iter, tol or check for degenerate data.\n",
      "  ConvergenceWarning,\n"
     ]
    },
    {
     "name": "stdout",
     "output_type": "stream",
     "text": [
      "[2]\tvalidation_0-rmse:5.34726\n"
     ]
    },
    {
     "name": "stderr",
     "output_type": "stream",
     "text": [
      "D:\\Users\\admin\\anaconda3\\lib\\site-packages\\sklearn\\mixture\\_base.py:282: ConvergenceWarning: Initialization 1 did not converge. Try different init parameters, or increase max_iter, tol or check for degenerate data.\n",
      "  ConvergenceWarning,\n"
     ]
    },
    {
     "name": "stdout",
     "output_type": "stream",
     "text": [
      "[3]\tvalidation_0-rmse:4.56496\n"
     ]
    },
    {
     "name": "stderr",
     "output_type": "stream",
     "text": [
      "D:\\Users\\admin\\anaconda3\\lib\\site-packages\\sklearn\\mixture\\_base.py:282: ConvergenceWarning: Initialization 1 did not converge. Try different init parameters, or increase max_iter, tol or check for degenerate data.\n",
      "  ConvergenceWarning,\n"
     ]
    },
    {
     "name": "stdout",
     "output_type": "stream",
     "text": [
      "[4]\tvalidation_0-rmse:4.35087\n"
     ]
    },
    {
     "name": "stderr",
     "output_type": "stream",
     "text": [
      "D:\\Users\\admin\\anaconda3\\lib\\site-packages\\sklearn\\mixture\\_base.py:282: ConvergenceWarning: Initialization 1 did not converge. Try different init parameters, or increase max_iter, tol or check for degenerate data.\n",
      "  ConvergenceWarning,\n"
     ]
    },
    {
     "name": "stdout",
     "output_type": "stream",
     "text": [
      "[5]\tvalidation_0-rmse:4.33105\n"
     ]
    },
    {
     "name": "stderr",
     "output_type": "stream",
     "text": [
      "D:\\Users\\admin\\anaconda3\\lib\\site-packages\\sklearn\\mixture\\_base.py:282: ConvergenceWarning: Initialization 1 did not converge. Try different init parameters, or increase max_iter, tol or check for degenerate data.\n",
      "  ConvergenceWarning,\n"
     ]
    },
    {
     "name": "stdout",
     "output_type": "stream",
     "text": [
      "[6]\tvalidation_0-rmse:4.21468\n"
     ]
    },
    {
     "name": "stderr",
     "output_type": "stream",
     "text": [
      "D:\\Users\\admin\\anaconda3\\lib\\site-packages\\sklearn\\mixture\\_base.py:282: ConvergenceWarning: Initialization 1 did not converge. Try different init parameters, or increase max_iter, tol or check for degenerate data.\n",
      "  ConvergenceWarning,\n"
     ]
    },
    {
     "name": "stdout",
     "output_type": "stream",
     "text": [
      "[7]\tvalidation_0-rmse:4.20434\n"
     ]
    },
    {
     "name": "stderr",
     "output_type": "stream",
     "text": [
      "D:\\Users\\admin\\anaconda3\\lib\\site-packages\\sklearn\\mixture\\_base.py:282: ConvergenceWarning: Initialization 1 did not converge. Try different init parameters, or increase max_iter, tol or check for degenerate data.\n",
      "  ConvergenceWarning,\n"
     ]
    },
    {
     "name": "stdout",
     "output_type": "stream",
     "text": [
      "[8]\tvalidation_0-rmse:4.23633\n"
     ]
    },
    {
     "name": "stderr",
     "output_type": "stream",
     "text": [
      "D:\\Users\\admin\\anaconda3\\lib\\site-packages\\sklearn\\mixture\\_base.py:282: ConvergenceWarning: Initialization 1 did not converge. Try different init parameters, or increase max_iter, tol or check for degenerate data.\n",
      "  ConvergenceWarning,\n"
     ]
    },
    {
     "name": "stdout",
     "output_type": "stream",
     "text": [
      "[9]\tvalidation_0-rmse:4.23242\n"
     ]
    },
    {
     "name": "stderr",
     "output_type": "stream",
     "text": [
      "D:\\Users\\admin\\anaconda3\\lib\\site-packages\\sklearn\\mixture\\_base.py:282: ConvergenceWarning: Initialization 1 did not converge. Try different init parameters, or increase max_iter, tol or check for degenerate data.\n",
      "  ConvergenceWarning,\n"
     ]
    },
    {
     "name": "stdout",
     "output_type": "stream",
     "text": [
      "[10]\tvalidation_0-rmse:4.23691\n"
     ]
    },
    {
     "name": "stderr",
     "output_type": "stream",
     "text": [
      "D:\\Users\\admin\\anaconda3\\lib\\site-packages\\sklearn\\mixture\\_base.py:282: ConvergenceWarning: Initialization 1 did not converge. Try different init parameters, or increase max_iter, tol or check for degenerate data.\n",
      "  ConvergenceWarning,\n"
     ]
    },
    {
     "name": "stdout",
     "output_type": "stream",
     "text": [
      "[11]\tvalidation_0-rmse:4.26152\n"
     ]
    },
    {
     "name": "stderr",
     "output_type": "stream",
     "text": [
      "D:\\Users\\admin\\anaconda3\\lib\\site-packages\\sklearn\\mixture\\_base.py:282: ConvergenceWarning: Initialization 1 did not converge. Try different init parameters, or increase max_iter, tol or check for degenerate data.\n",
      "  ConvergenceWarning,\n"
     ]
    },
    {
     "name": "stdout",
     "output_type": "stream",
     "text": [
      "[12]\tvalidation_0-rmse:4.25361\n"
     ]
    },
    {
     "name": "stderr",
     "output_type": "stream",
     "text": [
      "D:\\Users\\admin\\anaconda3\\lib\\site-packages\\sklearn\\mixture\\_base.py:282: ConvergenceWarning: Initialization 1 did not converge. Try different init parameters, or increase max_iter, tol or check for degenerate data.\n",
      "  ConvergenceWarning,\n"
     ]
    },
    {
     "name": "stdout",
     "output_type": "stream",
     "text": [
      "[13]\tvalidation_0-rmse:4.26804\n"
     ]
    },
    {
     "name": "stderr",
     "output_type": "stream",
     "text": [
      "D:\\Users\\admin\\anaconda3\\lib\\site-packages\\sklearn\\mixture\\_base.py:282: ConvergenceWarning: Initialization 1 did not converge. Try different init parameters, or increase max_iter, tol or check for degenerate data.\n",
      "  ConvergenceWarning,\n"
     ]
    },
    {
     "name": "stdout",
     "output_type": "stream",
     "text": [
      "[14]\tvalidation_0-rmse:4.25192\n"
     ]
    },
    {
     "name": "stderr",
     "output_type": "stream",
     "text": [
      "D:\\Users\\admin\\anaconda3\\lib\\site-packages\\sklearn\\mixture\\_base.py:282: ConvergenceWarning: Initialization 1 did not converge. Try different init parameters, or increase max_iter, tol or check for degenerate data.\n",
      "  ConvergenceWarning,\n"
     ]
    },
    {
     "name": "stdout",
     "output_type": "stream",
     "text": [
      "[15]\tvalidation_0-rmse:4.25612\n"
     ]
    },
    {
     "name": "stderr",
     "output_type": "stream",
     "text": [
      "D:\\Users\\admin\\anaconda3\\lib\\site-packages\\sklearn\\mixture\\_base.py:282: ConvergenceWarning: Initialization 1 did not converge. Try different init parameters, or increase max_iter, tol or check for degenerate data.\n",
      "  ConvergenceWarning,\n"
     ]
    },
    {
     "name": "stdout",
     "output_type": "stream",
     "text": [
      "[16]\tvalidation_0-rmse:4.26770\n"
     ]
    },
    {
     "name": "stderr",
     "output_type": "stream",
     "text": [
      "D:\\Users\\admin\\anaconda3\\lib\\site-packages\\sklearn\\mixture\\_base.py:282: ConvergenceWarning: Initialization 1 did not converge. Try different init parameters, or increase max_iter, tol or check for degenerate data.\n",
      "  ConvergenceWarning,\n"
     ]
    },
    {
     "name": "stdout",
     "output_type": "stream",
     "text": [
      "[17]\tvalidation_0-rmse:4.26946\n"
     ]
    },
    {
     "name": "stderr",
     "output_type": "stream",
     "text": [
      "D:\\Users\\admin\\anaconda3\\lib\\site-packages\\sklearn\\mixture\\_base.py:282: ConvergenceWarning: Initialization 1 did not converge. Try different init parameters, or increase max_iter, tol or check for degenerate data.\n",
      "  ConvergenceWarning,\n"
     ]
    },
    {
     "name": "stdout",
     "output_type": "stream",
     "text": [
      "[18]\tvalidation_0-rmse:4.27406\n"
     ]
    },
    {
     "name": "stderr",
     "output_type": "stream",
     "text": [
      "D:\\Users\\admin\\anaconda3\\lib\\site-packages\\sklearn\\mixture\\_base.py:282: ConvergenceWarning: Initialization 1 did not converge. Try different init parameters, or increase max_iter, tol or check for degenerate data.\n",
      "  ConvergenceWarning,\n"
     ]
    },
    {
     "name": "stdout",
     "output_type": "stream",
     "text": [
      "[19]\tvalidation_0-rmse:4.27093\n"
     ]
    },
    {
     "name": "stderr",
     "output_type": "stream",
     "text": [
      "D:\\Users\\admin\\anaconda3\\lib\\site-packages\\sklearn\\mixture\\_base.py:282: ConvergenceWarning: Initialization 1 did not converge. Try different init parameters, or increase max_iter, tol or check for degenerate data.\n",
      "  ConvergenceWarning,\n"
     ]
    },
    {
     "name": "stdout",
     "output_type": "stream",
     "text": [
      "[20]\tvalidation_0-rmse:4.26101\n"
     ]
    },
    {
     "name": "stderr",
     "output_type": "stream",
     "text": [
      "D:\\Users\\admin\\anaconda3\\lib\\site-packages\\sklearn\\mixture\\_base.py:282: ConvergenceWarning: Initialization 1 did not converge. Try different init parameters, or increase max_iter, tol or check for degenerate data.\n",
      "  ConvergenceWarning,\n"
     ]
    },
    {
     "name": "stdout",
     "output_type": "stream",
     "text": [
      "[21]\tvalidation_0-rmse:4.25929\n"
     ]
    },
    {
     "name": "stderr",
     "output_type": "stream",
     "text": [
      "D:\\Users\\admin\\anaconda3\\lib\\site-packages\\sklearn\\mixture\\_base.py:282: ConvergenceWarning: Initialization 1 did not converge. Try different init parameters, or increase max_iter, tol or check for degenerate data.\n",
      "  ConvergenceWarning,\n"
     ]
    },
    {
     "name": "stdout",
     "output_type": "stream",
     "text": [
      "[22]\tvalidation_0-rmse:4.25472\n"
     ]
    },
    {
     "name": "stderr",
     "output_type": "stream",
     "text": [
      "D:\\Users\\admin\\anaconda3\\lib\\site-packages\\sklearn\\mixture\\_base.py:282: ConvergenceWarning: Initialization 1 did not converge. Try different init parameters, or increase max_iter, tol or check for degenerate data.\n",
      "  ConvergenceWarning,\n"
     ]
    },
    {
     "name": "stdout",
     "output_type": "stream",
     "text": [
      "[23]\tvalidation_0-rmse:4.24109\n"
     ]
    },
    {
     "name": "stderr",
     "output_type": "stream",
     "text": [
      "D:\\Users\\admin\\anaconda3\\lib\\site-packages\\sklearn\\mixture\\_base.py:282: ConvergenceWarning: Initialization 1 did not converge. Try different init parameters, or increase max_iter, tol or check for degenerate data.\n",
      "  ConvergenceWarning,\n"
     ]
    },
    {
     "name": "stdout",
     "output_type": "stream",
     "text": [
      "[24]\tvalidation_0-rmse:4.23606\n"
     ]
    },
    {
     "name": "stderr",
     "output_type": "stream",
     "text": [
      "D:\\Users\\admin\\anaconda3\\lib\\site-packages\\sklearn\\mixture\\_base.py:282: ConvergenceWarning: Initialization 1 did not converge. Try different init parameters, or increase max_iter, tol or check for degenerate data.\n",
      "  ConvergenceWarning,\n"
     ]
    },
    {
     "name": "stdout",
     "output_type": "stream",
     "text": [
      "[25]\tvalidation_0-rmse:4.23806\n"
     ]
    },
    {
     "name": "stderr",
     "output_type": "stream",
     "text": [
      "D:\\Users\\admin\\anaconda3\\lib\\site-packages\\sklearn\\mixture\\_base.py:282: ConvergenceWarning: Initialization 1 did not converge. Try different init parameters, or increase max_iter, tol or check for degenerate data.\n",
      "  ConvergenceWarning,\n"
     ]
    },
    {
     "name": "stdout",
     "output_type": "stream",
     "text": [
      "[26]\tvalidation_0-rmse:4.23780\n"
     ]
    },
    {
     "name": "stderr",
     "output_type": "stream",
     "text": [
      "D:\\Users\\admin\\anaconda3\\lib\\site-packages\\sklearn\\mixture\\_base.py:282: ConvergenceWarning: Initialization 1 did not converge. Try different init parameters, or increase max_iter, tol or check for degenerate data.\n",
      "  ConvergenceWarning,\n"
     ]
    },
    {
     "name": "stdout",
     "output_type": "stream",
     "text": [
      "[27]\tvalidation_0-rmse:4.23713\n"
     ]
    },
    {
     "name": "stderr",
     "output_type": "stream",
     "text": [
      "D:\\Users\\admin\\anaconda3\\lib\\site-packages\\sklearn\\mixture\\_base.py:282: ConvergenceWarning: Initialization 1 did not converge. Try different init parameters, or increase max_iter, tol or check for degenerate data.\n",
      "  ConvergenceWarning,\n"
     ]
    },
    {
     "name": "stdout",
     "output_type": "stream",
     "text": [
      "[28]\tvalidation_0-rmse:4.23087\n"
     ]
    },
    {
     "name": "stderr",
     "output_type": "stream",
     "text": [
      "D:\\Users\\admin\\anaconda3\\lib\\site-packages\\sklearn\\mixture\\_base.py:282: ConvergenceWarning: Initialization 1 did not converge. Try different init parameters, or increase max_iter, tol or check for degenerate data.\n",
      "  ConvergenceWarning,\n"
     ]
    },
    {
     "name": "stdout",
     "output_type": "stream",
     "text": [
      "[29]\tvalidation_0-rmse:4.23064\n"
     ]
    },
    {
     "name": "stderr",
     "output_type": "stream",
     "text": [
      "D:\\Users\\admin\\anaconda3\\lib\\site-packages\\sklearn\\mixture\\_base.py:282: ConvergenceWarning: Initialization 1 did not converge. Try different init parameters, or increase max_iter, tol or check for degenerate data.\n",
      "  ConvergenceWarning,\n"
     ]
    },
    {
     "name": "stdout",
     "output_type": "stream",
     "text": [
      "[30]\tvalidation_0-rmse:4.23371\n"
     ]
    },
    {
     "name": "stderr",
     "output_type": "stream",
     "text": [
      "D:\\Users\\admin\\anaconda3\\lib\\site-packages\\sklearn\\mixture\\_base.py:282: ConvergenceWarning: Initialization 1 did not converge. Try different init parameters, or increase max_iter, tol or check for degenerate data.\n",
      "  ConvergenceWarning,\n"
     ]
    },
    {
     "name": "stdout",
     "output_type": "stream",
     "text": [
      "[31]\tvalidation_0-rmse:4.23585\n"
     ]
    },
    {
     "name": "stderr",
     "output_type": "stream",
     "text": [
      "D:\\Users\\admin\\anaconda3\\lib\\site-packages\\sklearn\\mixture\\_base.py:282: ConvergenceWarning: Initialization 1 did not converge. Try different init parameters, or increase max_iter, tol or check for degenerate data.\n",
      "  ConvergenceWarning,\n"
     ]
    },
    {
     "name": "stdout",
     "output_type": "stream",
     "text": [
      "[32]\tvalidation_0-rmse:4.23444\n"
     ]
    },
    {
     "name": "stderr",
     "output_type": "stream",
     "text": [
      "D:\\Users\\admin\\anaconda3\\lib\\site-packages\\sklearn\\mixture\\_base.py:282: ConvergenceWarning: Initialization 1 did not converge. Try different init parameters, or increase max_iter, tol or check for degenerate data.\n",
      "  ConvergenceWarning,\n"
     ]
    },
    {
     "name": "stdout",
     "output_type": "stream",
     "text": [
      "[33]\tvalidation_0-rmse:4.23237\n"
     ]
    },
    {
     "name": "stderr",
     "output_type": "stream",
     "text": [
      "D:\\Users\\admin\\anaconda3\\lib\\site-packages\\sklearn\\mixture\\_base.py:282: ConvergenceWarning: Initialization 1 did not converge. Try different init parameters, or increase max_iter, tol or check for degenerate data.\n",
      "  ConvergenceWarning,\n"
     ]
    },
    {
     "name": "stdout",
     "output_type": "stream",
     "text": [
      "[34]\tvalidation_0-rmse:4.23242\n"
     ]
    },
    {
     "name": "stderr",
     "output_type": "stream",
     "text": [
      "D:\\Users\\admin\\anaconda3\\lib\\site-packages\\sklearn\\mixture\\_base.py:282: ConvergenceWarning: Initialization 1 did not converge. Try different init parameters, or increase max_iter, tol or check for degenerate data.\n",
      "  ConvergenceWarning,\n"
     ]
    },
    {
     "name": "stdout",
     "output_type": "stream",
     "text": [
      "[35]\tvalidation_0-rmse:4.23342\n"
     ]
    },
    {
     "name": "stderr",
     "output_type": "stream",
     "text": [
      "D:\\Users\\admin\\anaconda3\\lib\\site-packages\\sklearn\\mixture\\_base.py:282: ConvergenceWarning: Initialization 1 did not converge. Try different init parameters, or increase max_iter, tol or check for degenerate data.\n",
      "  ConvergenceWarning,\n"
     ]
    },
    {
     "name": "stdout",
     "output_type": "stream",
     "text": [
      "[36]\tvalidation_0-rmse:4.23172\n"
     ]
    },
    {
     "name": "stderr",
     "output_type": "stream",
     "text": [
      "D:\\Users\\admin\\anaconda3\\lib\\site-packages\\sklearn\\mixture\\_base.py:282: ConvergenceWarning: Initialization 1 did not converge. Try different init parameters, or increase max_iter, tol or check for degenerate data.\n",
      "  ConvergenceWarning,\n"
     ]
    },
    {
     "name": "stdout",
     "output_type": "stream",
     "text": [
      "[37]\tvalidation_0-rmse:4.23292\n"
     ]
    },
    {
     "name": "stderr",
     "output_type": "stream",
     "text": [
      "D:\\Users\\admin\\anaconda3\\lib\\site-packages\\sklearn\\mixture\\_base.py:282: ConvergenceWarning: Initialization 1 did not converge. Try different init parameters, or increase max_iter, tol or check for degenerate data.\n",
      "  ConvergenceWarning,\n"
     ]
    },
    {
     "name": "stdout",
     "output_type": "stream",
     "text": [
      "[38]\tvalidation_0-rmse:4.23308\n"
     ]
    },
    {
     "name": "stderr",
     "output_type": "stream",
     "text": [
      "D:\\Users\\admin\\anaconda3\\lib\\site-packages\\sklearn\\mixture\\_base.py:282: ConvergenceWarning: Initialization 1 did not converge. Try different init parameters, or increase max_iter, tol or check for degenerate data.\n",
      "  ConvergenceWarning,\n"
     ]
    },
    {
     "name": "stdout",
     "output_type": "stream",
     "text": [
      "[39]\tvalidation_0-rmse:4.23137\n"
     ]
    },
    {
     "name": "stderr",
     "output_type": "stream",
     "text": [
      "D:\\Users\\admin\\anaconda3\\lib\\site-packages\\sklearn\\mixture\\_base.py:282: ConvergenceWarning: Initialization 1 did not converge. Try different init parameters, or increase max_iter, tol or check for degenerate data.\n",
      "  ConvergenceWarning,\n"
     ]
    },
    {
     "name": "stdout",
     "output_type": "stream",
     "text": [
      "[40]\tvalidation_0-rmse:4.22964\n"
     ]
    },
    {
     "name": "stderr",
     "output_type": "stream",
     "text": [
      "D:\\Users\\admin\\anaconda3\\lib\\site-packages\\sklearn\\mixture\\_base.py:282: ConvergenceWarning: Initialization 1 did not converge. Try different init parameters, or increase max_iter, tol or check for degenerate data.\n",
      "  ConvergenceWarning,\n"
     ]
    },
    {
     "name": "stdout",
     "output_type": "stream",
     "text": [
      "[41]\tvalidation_0-rmse:4.23099\n"
     ]
    },
    {
     "name": "stderr",
     "output_type": "stream",
     "text": [
      "D:\\Users\\admin\\anaconda3\\lib\\site-packages\\sklearn\\mixture\\_base.py:282: ConvergenceWarning: Initialization 1 did not converge. Try different init parameters, or increase max_iter, tol or check for degenerate data.\n",
      "  ConvergenceWarning,\n"
     ]
    },
    {
     "name": "stdout",
     "output_type": "stream",
     "text": [
      "[42]\tvalidation_0-rmse:4.23122\n"
     ]
    },
    {
     "name": "stderr",
     "output_type": "stream",
     "text": [
      "D:\\Users\\admin\\anaconda3\\lib\\site-packages\\sklearn\\mixture\\_base.py:282: ConvergenceWarning: Initialization 1 did not converge. Try different init parameters, or increase max_iter, tol or check for degenerate data.\n",
      "  ConvergenceWarning,\n"
     ]
    },
    {
     "name": "stdout",
     "output_type": "stream",
     "text": [
      "[43]\tvalidation_0-rmse:4.23366\n"
     ]
    },
    {
     "name": "stderr",
     "output_type": "stream",
     "text": [
      "D:\\Users\\admin\\anaconda3\\lib\\site-packages\\sklearn\\mixture\\_base.py:282: ConvergenceWarning: Initialization 1 did not converge. Try different init parameters, or increase max_iter, tol or check for degenerate data.\n",
      "  ConvergenceWarning,\n"
     ]
    },
    {
     "name": "stdout",
     "output_type": "stream",
     "text": [
      "[44]\tvalidation_0-rmse:4.23374\n"
     ]
    },
    {
     "name": "stderr",
     "output_type": "stream",
     "text": [
      "D:\\Users\\admin\\anaconda3\\lib\\site-packages\\sklearn\\mixture\\_base.py:282: ConvergenceWarning: Initialization 1 did not converge. Try different init parameters, or increase max_iter, tol or check for degenerate data.\n",
      "  ConvergenceWarning,\n"
     ]
    },
    {
     "name": "stdout",
     "output_type": "stream",
     "text": [
      "[45]\tvalidation_0-rmse:4.23493\n"
     ]
    },
    {
     "name": "stderr",
     "output_type": "stream",
     "text": [
      "D:\\Users\\admin\\anaconda3\\lib\\site-packages\\sklearn\\mixture\\_base.py:282: ConvergenceWarning: Initialization 1 did not converge. Try different init parameters, or increase max_iter, tol or check for degenerate data.\n",
      "  ConvergenceWarning,\n"
     ]
    },
    {
     "name": "stdout",
     "output_type": "stream",
     "text": [
      "[46]\tvalidation_0-rmse:4.23502\n"
     ]
    },
    {
     "name": "stderr",
     "output_type": "stream",
     "text": [
      "D:\\Users\\admin\\anaconda3\\lib\\site-packages\\sklearn\\mixture\\_base.py:282: ConvergenceWarning: Initialization 1 did not converge. Try different init parameters, or increase max_iter, tol or check for degenerate data.\n",
      "  ConvergenceWarning,\n"
     ]
    },
    {
     "name": "stdout",
     "output_type": "stream",
     "text": [
      "[47]\tvalidation_0-rmse:4.23413\n"
     ]
    },
    {
     "name": "stderr",
     "output_type": "stream",
     "text": [
      "D:\\Users\\admin\\anaconda3\\lib\\site-packages\\sklearn\\mixture\\_base.py:282: ConvergenceWarning: Initialization 1 did not converge. Try different init parameters, or increase max_iter, tol or check for degenerate data.\n",
      "  ConvergenceWarning,\n"
     ]
    },
    {
     "name": "stdout",
     "output_type": "stream",
     "text": [
      "[48]\tvalidation_0-rmse:4.23410\n"
     ]
    },
    {
     "name": "stderr",
     "output_type": "stream",
     "text": [
      "D:\\Users\\admin\\anaconda3\\lib\\site-packages\\sklearn\\mixture\\_base.py:282: ConvergenceWarning: Initialization 1 did not converge. Try different init parameters, or increase max_iter, tol or check for degenerate data.\n",
      "  ConvergenceWarning,\n"
     ]
    },
    {
     "name": "stdout",
     "output_type": "stream",
     "text": [
      "[49]\tvalidation_0-rmse:4.23470\n",
      " * Overall: MSE 22.192\tL1 3.391\tG-Mean 1.973\n",
      " * Many: MSE 5.127\tL1 1.834\tG-Mean 1.252\n",
      " * Median: MSE 31.209\tL1 4.046\tG-Mean 2.253\n",
      " * Low: MSE 37.777\tL1 5.072\tG-Mean 3.638\n",
      " * Many_shot 27.000\tMedian 32.000\tLow_shot 17.000\n"
     ]
    },
    {
     "name": "stderr",
     "output_type": "stream",
     "text": [
      "D:\\Users\\admin\\anaconda3\\lib\\site-packages\\sklearn\\mixture\\_base.py:282: ConvergenceWarning: Initialization 1 did not converge. Try different init parameters, or increase max_iter, tol or check for degenerate data.\n",
      "  ConvergenceWarning,\n"
     ]
    }
   ],
   "source": [
    "#%%%   Imr-bay-gb\n",
    "import xgboost as xgb\n",
    "Imr_gb_boston = xgb.XGBRegressor(n_estimators=50,\n",
    "                             objective = Im_bay_loss,\n",
    "                             #eval_metric = mean_absolute_error\n",
    "                             random_state=1\n",
    "                            )\n",
    "Imr_gb_boston.fit(x_boston_train, y_boston_train,  eval_set=[(x_boston_val, y_boston_val)])\n",
    "Imr_gb_boston_pred = Imr_gb_boston.predict(x_boston_test)\n",
    "#%%   shot metrics  0.1\n",
    "import shot_metric\n",
    "shot_metric.val_metrics(Imr_gb_boston_pred, y_boston_test, y_boston_train)"
   ]
  },
  {
   "cell_type": "code",
   "execution_count": null,
   "id": "d7462296-854c-4b24-bfea-49ab5e344188",
   "metadata": {},
   "outputs": [],
   "source": []
  }
 ],
 "metadata": {
  "kernelspec": {
   "display_name": "Python 3",
   "language": "python",
   "name": "python3"
  },
  "language_info": {
   "codemirror_mode": {
    "name": "ipython",
    "version": 3
   },
   "file_extension": ".py",
   "mimetype": "text/x-python",
   "name": "python",
   "nbconvert_exporter": "python",
   "pygments_lexer": "ipython3",
   "version": "3.7.9"
  },
  "toc-autonumbering": false
 },
 "nbformat": 4,
 "nbformat_minor": 5
}
